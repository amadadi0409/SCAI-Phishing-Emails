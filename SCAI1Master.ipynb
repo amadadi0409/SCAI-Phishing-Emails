{
  "cells": [
    {
      "cell_type": "markdown",
      "metadata": {
        "id": "view-in-github",
        "colab_type": "text"
      },
      "source": [
        "<a href=\"https://colab.research.google.com/github/amadadi0409/SCAI-Phishing-Emails/blob/main/SCAI1Master.ipynb\" target=\"_parent\"><img src=\"https://colab.research.google.com/assets/colab-badge.svg\" alt=\"Open In Colab\"/></a>"
      ]
    },
    {
      "cell_type": "code",
      "execution_count": null,
      "metadata": {
        "id": "eZlpkWY--YzU"
      },
      "outputs": [],
      "source": [
        "#Implemented by: Arnav Sharma, Adwaith Madadi, Anish Kondamadugula\n",
        "#SCAI Competition: Winter Quarter 2023-2024\n",
        "\n",
        "#importing all the necessary libraries for building and training the neural network model.\n",
        "import pandas as pd\n",
        "import numpy as np\n",
        "import os\n",
        "import pickle\n",
        "\n",
        "import tensorflow as tf\n",
        "from tensorflow import keras\n",
        "from tensorflow.keras.models import Sequential\n",
        "from tensorflow.keras.layers import Embedding, LSTM, Dense\n",
        "from keras.models import Sequential\n",
        "from keras.layers import Dense,LSTM,Embedding,Dropout,Activation,Bidirectional\n",
        "from tensorflow.keras.optimizers import Adam\n",
        "from tensorflow.keras.utils import to_categorical\n",
        "from tensorflow.keras.preprocessing.text import Tokenizer\n",
        "\n"
      ]
    },
    {
      "cell_type": "code",
      "execution_count": null,
      "metadata": {
        "colab": {
          "base_uri": "https://localhost:8080/"
        },
        "id": "Xu3CFbEAAY4b",
        "outputId": "469003a1-805b-4543-b079-45a3cf1b68c9"
      },
      "outputs": [
        {
          "output_type": "stream",
          "name": "stderr",
          "text": [
            "[nltk_data] Downloading package stopwords to /root/nltk_data...\n",
            "[nltk_data]   Unzipping corpora/stopwords.zip.\n",
            "[nltk_data] Downloading package punkt to /root/nltk_data...\n",
            "[nltk_data]   Unzipping tokenizers/punkt.zip.\n"
          ]
        }
      ],
      "source": [
        "#Data preprocessing\n",
        "import nltk\n",
        "nltk.download('stopwords')\n",
        "nltk.download('punkt')\n",
        "from nltk.corpus import stopwords\n",
        "from nltk.tokenize import word_tokenize\n",
        "import regex as re\n",
        "\n",
        "#Feature Engineering\n",
        "import string\n",
        "from keras.preprocessing.text import Tokenizer\n",
        "from keras.preprocessing.sequence import pad_sequences\n",
        "from sklearn.preprocessing import LabelEncoder\n",
        "\n",
        "#Data Splitting\n",
        "from sklearn.model_selection import train_test_split\n",
        "\n",
        "#Results + Visualization\n",
        "import matplotlib.pyplot as plt\n",
        "from sklearn.metrics import confusion_matrix,f1_score, precision_score, recall_score\n",
        "import seaborn as sns\n",
        "\n",
        "\n"
      ]
    },
    {
      "cell_type": "code",
      "execution_count": null,
      "metadata": {
        "id": "OmJ_MIzb0cHP"
      },
      "outputs": [],
      "source": [
        "\n",
        "#csv file\n",
        "dataset = pd.read_csv(r'/content/combined_data.csv')\n",
        "\n"
      ]
    },
    {
      "cell_type": "code",
      "source": [
        "#from google.colab import drive\n",
        "#drive.mount('/content/drive')"
      ],
      "metadata": {
        "id": "ia5jfTuIBNPU"
      },
      "execution_count": null,
      "outputs": []
    },
    {
      "cell_type": "code",
      "execution_count": null,
      "metadata": {
        "id": "hwNP3NQq4f7L",
        "colab": {
          "base_uri": "https://localhost:8080/",
          "height": 206
        },
        "outputId": "fbb0ca38-5a16-4de6-d49c-95d7a7e91e62"
      },
      "outputs": [
        {
          "output_type": "execute_result",
          "data": {
            "text/plain": [
              "   label                                               text\n",
              "0      1  ounce feather bowl hummingbird opec moment ala...\n",
              "1      1  wulvob get your medircations online qnb ikud v...\n",
              "2      0   computer connection from cnn com wednesday es...\n",
              "3      1  university degree obtain a prosperous future m...\n",
              "4      0  thanks for all your answers guys i know i shou..."
            ],
            "text/html": [
              "\n",
              "  <div id=\"df-060018bc-f4c5-42fa-8478-ede2d7c507b3\" class=\"colab-df-container\">\n",
              "    <div>\n",
              "<style scoped>\n",
              "    .dataframe tbody tr th:only-of-type {\n",
              "        vertical-align: middle;\n",
              "    }\n",
              "\n",
              "    .dataframe tbody tr th {\n",
              "        vertical-align: top;\n",
              "    }\n",
              "\n",
              "    .dataframe thead th {\n",
              "        text-align: right;\n",
              "    }\n",
              "</style>\n",
              "<table border=\"1\" class=\"dataframe\">\n",
              "  <thead>\n",
              "    <tr style=\"text-align: right;\">\n",
              "      <th></th>\n",
              "      <th>label</th>\n",
              "      <th>text</th>\n",
              "    </tr>\n",
              "  </thead>\n",
              "  <tbody>\n",
              "    <tr>\n",
              "      <th>0</th>\n",
              "      <td>1</td>\n",
              "      <td>ounce feather bowl hummingbird opec moment ala...</td>\n",
              "    </tr>\n",
              "    <tr>\n",
              "      <th>1</th>\n",
              "      <td>1</td>\n",
              "      <td>wulvob get your medircations online qnb ikud v...</td>\n",
              "    </tr>\n",
              "    <tr>\n",
              "      <th>2</th>\n",
              "      <td>0</td>\n",
              "      <td>computer connection from cnn com wednesday es...</td>\n",
              "    </tr>\n",
              "    <tr>\n",
              "      <th>3</th>\n",
              "      <td>1</td>\n",
              "      <td>university degree obtain a prosperous future m...</td>\n",
              "    </tr>\n",
              "    <tr>\n",
              "      <th>4</th>\n",
              "      <td>0</td>\n",
              "      <td>thanks for all your answers guys i know i shou...</td>\n",
              "    </tr>\n",
              "  </tbody>\n",
              "</table>\n",
              "</div>\n",
              "    <div class=\"colab-df-buttons\">\n",
              "\n",
              "  <div class=\"colab-df-container\">\n",
              "    <button class=\"colab-df-convert\" onclick=\"convertToInteractive('df-060018bc-f4c5-42fa-8478-ede2d7c507b3')\"\n",
              "            title=\"Convert this dataframe to an interactive table.\"\n",
              "            style=\"display:none;\">\n",
              "\n",
              "  <svg xmlns=\"http://www.w3.org/2000/svg\" height=\"24px\" viewBox=\"0 -960 960 960\">\n",
              "    <path d=\"M120-120v-720h720v720H120Zm60-500h600v-160H180v160Zm220 220h160v-160H400v160Zm0 220h160v-160H400v160ZM180-400h160v-160H180v160Zm440 0h160v-160H620v160ZM180-180h160v-160H180v160Zm440 0h160v-160H620v160Z\"/>\n",
              "  </svg>\n",
              "    </button>\n",
              "\n",
              "  <style>\n",
              "    .colab-df-container {\n",
              "      display:flex;\n",
              "      gap: 12px;\n",
              "    }\n",
              "\n",
              "    .colab-df-convert {\n",
              "      background-color: #E8F0FE;\n",
              "      border: none;\n",
              "      border-radius: 50%;\n",
              "      cursor: pointer;\n",
              "      display: none;\n",
              "      fill: #1967D2;\n",
              "      height: 32px;\n",
              "      padding: 0 0 0 0;\n",
              "      width: 32px;\n",
              "    }\n",
              "\n",
              "    .colab-df-convert:hover {\n",
              "      background-color: #E2EBFA;\n",
              "      box-shadow: 0px 1px 2px rgba(60, 64, 67, 0.3), 0px 1px 3px 1px rgba(60, 64, 67, 0.15);\n",
              "      fill: #174EA6;\n",
              "    }\n",
              "\n",
              "    .colab-df-buttons div {\n",
              "      margin-bottom: 4px;\n",
              "    }\n",
              "\n",
              "    [theme=dark] .colab-df-convert {\n",
              "      background-color: #3B4455;\n",
              "      fill: #D2E3FC;\n",
              "    }\n",
              "\n",
              "    [theme=dark] .colab-df-convert:hover {\n",
              "      background-color: #434B5C;\n",
              "      box-shadow: 0px 1px 3px 1px rgba(0, 0, 0, 0.15);\n",
              "      filter: drop-shadow(0px 1px 2px rgba(0, 0, 0, 0.3));\n",
              "      fill: #FFFFFF;\n",
              "    }\n",
              "  </style>\n",
              "\n",
              "    <script>\n",
              "      const buttonEl =\n",
              "        document.querySelector('#df-060018bc-f4c5-42fa-8478-ede2d7c507b3 button.colab-df-convert');\n",
              "      buttonEl.style.display =\n",
              "        google.colab.kernel.accessAllowed ? 'block' : 'none';\n",
              "\n",
              "      async function convertToInteractive(key) {\n",
              "        const element = document.querySelector('#df-060018bc-f4c5-42fa-8478-ede2d7c507b3');\n",
              "        const dataTable =\n",
              "          await google.colab.kernel.invokeFunction('convertToInteractive',\n",
              "                                                    [key], {});\n",
              "        if (!dataTable) return;\n",
              "\n",
              "        const docLinkHtml = 'Like what you see? Visit the ' +\n",
              "          '<a target=\"_blank\" href=https://colab.research.google.com/notebooks/data_table.ipynb>data table notebook</a>'\n",
              "          + ' to learn more about interactive tables.';\n",
              "        element.innerHTML = '';\n",
              "        dataTable['output_type'] = 'display_data';\n",
              "        await google.colab.output.renderOutput(dataTable, element);\n",
              "        const docLink = document.createElement('div');\n",
              "        docLink.innerHTML = docLinkHtml;\n",
              "        element.appendChild(docLink);\n",
              "      }\n",
              "    </script>\n",
              "  </div>\n",
              "\n",
              "\n",
              "<div id=\"df-f1889396-1c27-4953-8163-39c6ac0cd3cd\">\n",
              "  <button class=\"colab-df-quickchart\" onclick=\"quickchart('df-f1889396-1c27-4953-8163-39c6ac0cd3cd')\"\n",
              "            title=\"Suggest charts\"\n",
              "            style=\"display:none;\">\n",
              "\n",
              "<svg xmlns=\"http://www.w3.org/2000/svg\" height=\"24px\"viewBox=\"0 0 24 24\"\n",
              "     width=\"24px\">\n",
              "    <g>\n",
              "        <path d=\"M19 3H5c-1.1 0-2 .9-2 2v14c0 1.1.9 2 2 2h14c1.1 0 2-.9 2-2V5c0-1.1-.9-2-2-2zM9 17H7v-7h2v7zm4 0h-2V7h2v10zm4 0h-2v-4h2v4z\"/>\n",
              "    </g>\n",
              "</svg>\n",
              "  </button>\n",
              "\n",
              "<style>\n",
              "  .colab-df-quickchart {\n",
              "      --bg-color: #E8F0FE;\n",
              "      --fill-color: #1967D2;\n",
              "      --hover-bg-color: #E2EBFA;\n",
              "      --hover-fill-color: #174EA6;\n",
              "      --disabled-fill-color: #AAA;\n",
              "      --disabled-bg-color: #DDD;\n",
              "  }\n",
              "\n",
              "  [theme=dark] .colab-df-quickchart {\n",
              "      --bg-color: #3B4455;\n",
              "      --fill-color: #D2E3FC;\n",
              "      --hover-bg-color: #434B5C;\n",
              "      --hover-fill-color: #FFFFFF;\n",
              "      --disabled-bg-color: #3B4455;\n",
              "      --disabled-fill-color: #666;\n",
              "  }\n",
              "\n",
              "  .colab-df-quickchart {\n",
              "    background-color: var(--bg-color);\n",
              "    border: none;\n",
              "    border-radius: 50%;\n",
              "    cursor: pointer;\n",
              "    display: none;\n",
              "    fill: var(--fill-color);\n",
              "    height: 32px;\n",
              "    padding: 0;\n",
              "    width: 32px;\n",
              "  }\n",
              "\n",
              "  .colab-df-quickchart:hover {\n",
              "    background-color: var(--hover-bg-color);\n",
              "    box-shadow: 0 1px 2px rgba(60, 64, 67, 0.3), 0 1px 3px 1px rgba(60, 64, 67, 0.15);\n",
              "    fill: var(--button-hover-fill-color);\n",
              "  }\n",
              "\n",
              "  .colab-df-quickchart-complete:disabled,\n",
              "  .colab-df-quickchart-complete:disabled:hover {\n",
              "    background-color: var(--disabled-bg-color);\n",
              "    fill: var(--disabled-fill-color);\n",
              "    box-shadow: none;\n",
              "  }\n",
              "\n",
              "  .colab-df-spinner {\n",
              "    border: 2px solid var(--fill-color);\n",
              "    border-color: transparent;\n",
              "    border-bottom-color: var(--fill-color);\n",
              "    animation:\n",
              "      spin 1s steps(1) infinite;\n",
              "  }\n",
              "\n",
              "  @keyframes spin {\n",
              "    0% {\n",
              "      border-color: transparent;\n",
              "      border-bottom-color: var(--fill-color);\n",
              "      border-left-color: var(--fill-color);\n",
              "    }\n",
              "    20% {\n",
              "      border-color: transparent;\n",
              "      border-left-color: var(--fill-color);\n",
              "      border-top-color: var(--fill-color);\n",
              "    }\n",
              "    30% {\n",
              "      border-color: transparent;\n",
              "      border-left-color: var(--fill-color);\n",
              "      border-top-color: var(--fill-color);\n",
              "      border-right-color: var(--fill-color);\n",
              "    }\n",
              "    40% {\n",
              "      border-color: transparent;\n",
              "      border-right-color: var(--fill-color);\n",
              "      border-top-color: var(--fill-color);\n",
              "    }\n",
              "    60% {\n",
              "      border-color: transparent;\n",
              "      border-right-color: var(--fill-color);\n",
              "    }\n",
              "    80% {\n",
              "      border-color: transparent;\n",
              "      border-right-color: var(--fill-color);\n",
              "      border-bottom-color: var(--fill-color);\n",
              "    }\n",
              "    90% {\n",
              "      border-color: transparent;\n",
              "      border-bottom-color: var(--fill-color);\n",
              "    }\n",
              "  }\n",
              "</style>\n",
              "\n",
              "  <script>\n",
              "    async function quickchart(key) {\n",
              "      const quickchartButtonEl =\n",
              "        document.querySelector('#' + key + ' button');\n",
              "      quickchartButtonEl.disabled = true;  // To prevent multiple clicks.\n",
              "      quickchartButtonEl.classList.add('colab-df-spinner');\n",
              "      try {\n",
              "        const charts = await google.colab.kernel.invokeFunction(\n",
              "            'suggestCharts', [key], {});\n",
              "      } catch (error) {\n",
              "        console.error('Error during call to suggestCharts:', error);\n",
              "      }\n",
              "      quickchartButtonEl.classList.remove('colab-df-spinner');\n",
              "      quickchartButtonEl.classList.add('colab-df-quickchart-complete');\n",
              "    }\n",
              "    (() => {\n",
              "      let quickchartButtonEl =\n",
              "        document.querySelector('#df-f1889396-1c27-4953-8163-39c6ac0cd3cd button');\n",
              "      quickchartButtonEl.style.display =\n",
              "        google.colab.kernel.accessAllowed ? 'block' : 'none';\n",
              "    })();\n",
              "  </script>\n",
              "</div>\n",
              "    </div>\n",
              "  </div>\n"
            ],
            "application/vnd.google.colaboratory.intrinsic+json": {
              "type": "dataframe",
              "variable_name": "dataset",
              "summary": "{\n  \"name\": \"dataset\",\n  \"rows\": 83448,\n  \"fields\": [\n    {\n      \"column\": \"label\",\n      \"properties\": {\n        \"dtype\": \"number\",\n        \"std\": 0,\n        \"min\": 0,\n        \"max\": 1,\n        \"num_unique_values\": 2,\n        \"samples\": [\n          0,\n          1\n        ],\n        \"semantic_type\": \"\",\n        \"description\": \"\"\n      }\n    },\n    {\n      \"column\": \"text\",\n      \"properties\": {\n        \"dtype\": \"string\",\n        \"num_unique_values\": 83446,\n        \"samples\": [\n          \"so hard that he can't find time to write to his friends escapenumberf take good care of him aescapenumber aescapenumber they also threatened to destroy fire away then since you are up commanded frank tell him without words so hard that he can't find time to write to his friends escapenumberf take good care of him so hard that he can't find time to write to his friends escapenumberf take good care of him bat's word was law in some things so molly had to submit and took boo away bow aescapenumber aescapenumberas if he had outgrown them and wanted something manlier he took to the hated as if he had outgrown them and wanted something manlier he took to the hated aescapenumber aescapenumberdown workwomen but wishes us to pay them well and economize in some other the house if you feel sociable and your evenings are always free come to me him near her and flapped her fan vigorously whenever he was in sight which with a bucket of water are not pleased for charlie is too presuming and you do need someone to help instantly laid away for repairs and its disappointed maker devoted his energies to helping aescapenumber aescapenumberhead wisely listening to my moral remarks mrs laurence and laurie paused for amy's aescapenumber escapelong how does she behave escapenumberf asked phebe longing for news but too grateful ants when their hill is disturbed of course half a dozen amiable souls posted to have you get thin and pale you know peggy was a jolly lass how beautiful it is cried fanny the drawer took up the little gray book which was her pride thinking christie when her hostess returned and found her warmed refreshed aescapenumber aescapenumber don't then emil who had got his breath by this time gave aescapenumber aescapenumberthen giving a great spring he shot through the air and landed safely anguish as she cried was himself again but it was evident that his sufferings were not smile and agile motion of every limb old ben carried the bag in one soon to tell her all about it you are your active life has done much in some ways to make a man warming and fill the kettle i'll see to the boy commanded mrs aescapenumber aescapenumberat work the sewing room was quite irresistible and he made himself aescapenumber aescapenumbereye showed that his love trials did not quite blind him to the comic aunt looked sober at first but he was so cool about it she couldn't from heart disease and the slightest excitement might kill us if pat while he curried lita till her coat shone like satin then drove is absent template better for it though the memory of it is still bitter and the cross aescapenumber aescapenumber i find don't be a with an unsparing hand institution had not yet made its rules as fixed as the laws of the medes aescapenumber aescapenumberuncle henry smiled and cuddled his little niece\",\n          \"bull market report lescapenumberkup adovcurrent escapenumber escapenumber day target price escapenumber escapelong steadily climb for the top this sym is gaining momentum adov have released very hot news check this out theorize and call to your brocker right now \"\n        ],\n        \"semantic_type\": \"\",\n        \"description\": \"\"\n      }\n    }\n  ]\n}"
            }
          },
          "metadata": {},
          "execution_count": 5
        }
      ],
      "source": [
        "dataset.head()"
      ]
    },
    {
      "cell_type": "code",
      "execution_count": null,
      "metadata": {
        "id": "QJ7mHnPQ4id_",
        "colab": {
          "base_uri": "https://localhost:8080/",
          "height": 424
        },
        "outputId": "e0820910-7536-4f3e-91fe-e971c10c5668"
      },
      "outputs": [
        {
          "output_type": "execute_result",
          "data": {
            "text/plain": [
              "       label                                               text\n",
              "0          1  ounce feather bowl hummingbird opec moment ala...\n",
              "1          1  wulvob get your medircations online qnb ikud v...\n",
              "2          0   computer connection from cnn com wednesday es...\n",
              "3          1  university degree obtain a prosperous future m...\n",
              "4          0  thanks for all your answers guys i know i shou...\n",
              "...      ...                                                ...\n",
              "83443      0  hi given a date how do i get the last date of ...\n",
              "83444      1  now you can order software on cd or download i...\n",
              "83445      1  dear valued member canadianpharmacy provides a...\n",
              "83446      0  subscribe change profile contact us long term ...\n",
              "83447      1  get the most out of life ! viagra has helped m...\n",
              "\n",
              "[83448 rows x 2 columns]"
            ],
            "text/html": [
              "\n",
              "  <div id=\"df-e3b2c631-f5bc-4f05-bc7e-ef9409d3b901\" class=\"colab-df-container\">\n",
              "    <div>\n",
              "<style scoped>\n",
              "    .dataframe tbody tr th:only-of-type {\n",
              "        vertical-align: middle;\n",
              "    }\n",
              "\n",
              "    .dataframe tbody tr th {\n",
              "        vertical-align: top;\n",
              "    }\n",
              "\n",
              "    .dataframe thead th {\n",
              "        text-align: right;\n",
              "    }\n",
              "</style>\n",
              "<table border=\"1\" class=\"dataframe\">\n",
              "  <thead>\n",
              "    <tr style=\"text-align: right;\">\n",
              "      <th></th>\n",
              "      <th>label</th>\n",
              "      <th>text</th>\n",
              "    </tr>\n",
              "  </thead>\n",
              "  <tbody>\n",
              "    <tr>\n",
              "      <th>0</th>\n",
              "      <td>1</td>\n",
              "      <td>ounce feather bowl hummingbird opec moment ala...</td>\n",
              "    </tr>\n",
              "    <tr>\n",
              "      <th>1</th>\n",
              "      <td>1</td>\n",
              "      <td>wulvob get your medircations online qnb ikud v...</td>\n",
              "    </tr>\n",
              "    <tr>\n",
              "      <th>2</th>\n",
              "      <td>0</td>\n",
              "      <td>computer connection from cnn com wednesday es...</td>\n",
              "    </tr>\n",
              "    <tr>\n",
              "      <th>3</th>\n",
              "      <td>1</td>\n",
              "      <td>university degree obtain a prosperous future m...</td>\n",
              "    </tr>\n",
              "    <tr>\n",
              "      <th>4</th>\n",
              "      <td>0</td>\n",
              "      <td>thanks for all your answers guys i know i shou...</td>\n",
              "    </tr>\n",
              "    <tr>\n",
              "      <th>...</th>\n",
              "      <td>...</td>\n",
              "      <td>...</td>\n",
              "    </tr>\n",
              "    <tr>\n",
              "      <th>83443</th>\n",
              "      <td>0</td>\n",
              "      <td>hi given a date how do i get the last date of ...</td>\n",
              "    </tr>\n",
              "    <tr>\n",
              "      <th>83444</th>\n",
              "      <td>1</td>\n",
              "      <td>now you can order software on cd or download i...</td>\n",
              "    </tr>\n",
              "    <tr>\n",
              "      <th>83445</th>\n",
              "      <td>1</td>\n",
              "      <td>dear valued member canadianpharmacy provides a...</td>\n",
              "    </tr>\n",
              "    <tr>\n",
              "      <th>83446</th>\n",
              "      <td>0</td>\n",
              "      <td>subscribe change profile contact us long term ...</td>\n",
              "    </tr>\n",
              "    <tr>\n",
              "      <th>83447</th>\n",
              "      <td>1</td>\n",
              "      <td>get the most out of life ! viagra has helped m...</td>\n",
              "    </tr>\n",
              "  </tbody>\n",
              "</table>\n",
              "<p>83448 rows × 2 columns</p>\n",
              "</div>\n",
              "    <div class=\"colab-df-buttons\">\n",
              "\n",
              "  <div class=\"colab-df-container\">\n",
              "    <button class=\"colab-df-convert\" onclick=\"convertToInteractive('df-e3b2c631-f5bc-4f05-bc7e-ef9409d3b901')\"\n",
              "            title=\"Convert this dataframe to an interactive table.\"\n",
              "            style=\"display:none;\">\n",
              "\n",
              "  <svg xmlns=\"http://www.w3.org/2000/svg\" height=\"24px\" viewBox=\"0 -960 960 960\">\n",
              "    <path d=\"M120-120v-720h720v720H120Zm60-500h600v-160H180v160Zm220 220h160v-160H400v160Zm0 220h160v-160H400v160ZM180-400h160v-160H180v160Zm440 0h160v-160H620v160ZM180-180h160v-160H180v160Zm440 0h160v-160H620v160Z\"/>\n",
              "  </svg>\n",
              "    </button>\n",
              "\n",
              "  <style>\n",
              "    .colab-df-container {\n",
              "      display:flex;\n",
              "      gap: 12px;\n",
              "    }\n",
              "\n",
              "    .colab-df-convert {\n",
              "      background-color: #E8F0FE;\n",
              "      border: none;\n",
              "      border-radius: 50%;\n",
              "      cursor: pointer;\n",
              "      display: none;\n",
              "      fill: #1967D2;\n",
              "      height: 32px;\n",
              "      padding: 0 0 0 0;\n",
              "      width: 32px;\n",
              "    }\n",
              "\n",
              "    .colab-df-convert:hover {\n",
              "      background-color: #E2EBFA;\n",
              "      box-shadow: 0px 1px 2px rgba(60, 64, 67, 0.3), 0px 1px 3px 1px rgba(60, 64, 67, 0.15);\n",
              "      fill: #174EA6;\n",
              "    }\n",
              "\n",
              "    .colab-df-buttons div {\n",
              "      margin-bottom: 4px;\n",
              "    }\n",
              "\n",
              "    [theme=dark] .colab-df-convert {\n",
              "      background-color: #3B4455;\n",
              "      fill: #D2E3FC;\n",
              "    }\n",
              "\n",
              "    [theme=dark] .colab-df-convert:hover {\n",
              "      background-color: #434B5C;\n",
              "      box-shadow: 0px 1px 3px 1px rgba(0, 0, 0, 0.15);\n",
              "      filter: drop-shadow(0px 1px 2px rgba(0, 0, 0, 0.3));\n",
              "      fill: #FFFFFF;\n",
              "    }\n",
              "  </style>\n",
              "\n",
              "    <script>\n",
              "      const buttonEl =\n",
              "        document.querySelector('#df-e3b2c631-f5bc-4f05-bc7e-ef9409d3b901 button.colab-df-convert');\n",
              "      buttonEl.style.display =\n",
              "        google.colab.kernel.accessAllowed ? 'block' : 'none';\n",
              "\n",
              "      async function convertToInteractive(key) {\n",
              "        const element = document.querySelector('#df-e3b2c631-f5bc-4f05-bc7e-ef9409d3b901');\n",
              "        const dataTable =\n",
              "          await google.colab.kernel.invokeFunction('convertToInteractive',\n",
              "                                                    [key], {});\n",
              "        if (!dataTable) return;\n",
              "\n",
              "        const docLinkHtml = 'Like what you see? Visit the ' +\n",
              "          '<a target=\"_blank\" href=https://colab.research.google.com/notebooks/data_table.ipynb>data table notebook</a>'\n",
              "          + ' to learn more about interactive tables.';\n",
              "        element.innerHTML = '';\n",
              "        dataTable['output_type'] = 'display_data';\n",
              "        await google.colab.output.renderOutput(dataTable, element);\n",
              "        const docLink = document.createElement('div');\n",
              "        docLink.innerHTML = docLinkHtml;\n",
              "        element.appendChild(docLink);\n",
              "      }\n",
              "    </script>\n",
              "  </div>\n",
              "\n",
              "\n",
              "<div id=\"df-406f92bc-9260-4de1-b2a6-2ee7017e7f1f\">\n",
              "  <button class=\"colab-df-quickchart\" onclick=\"quickchart('df-406f92bc-9260-4de1-b2a6-2ee7017e7f1f')\"\n",
              "            title=\"Suggest charts\"\n",
              "            style=\"display:none;\">\n",
              "\n",
              "<svg xmlns=\"http://www.w3.org/2000/svg\" height=\"24px\"viewBox=\"0 0 24 24\"\n",
              "     width=\"24px\">\n",
              "    <g>\n",
              "        <path d=\"M19 3H5c-1.1 0-2 .9-2 2v14c0 1.1.9 2 2 2h14c1.1 0 2-.9 2-2V5c0-1.1-.9-2-2-2zM9 17H7v-7h2v7zm4 0h-2V7h2v10zm4 0h-2v-4h2v4z\"/>\n",
              "    </g>\n",
              "</svg>\n",
              "  </button>\n",
              "\n",
              "<style>\n",
              "  .colab-df-quickchart {\n",
              "      --bg-color: #E8F0FE;\n",
              "      --fill-color: #1967D2;\n",
              "      --hover-bg-color: #E2EBFA;\n",
              "      --hover-fill-color: #174EA6;\n",
              "      --disabled-fill-color: #AAA;\n",
              "      --disabled-bg-color: #DDD;\n",
              "  }\n",
              "\n",
              "  [theme=dark] .colab-df-quickchart {\n",
              "      --bg-color: #3B4455;\n",
              "      --fill-color: #D2E3FC;\n",
              "      --hover-bg-color: #434B5C;\n",
              "      --hover-fill-color: #FFFFFF;\n",
              "      --disabled-bg-color: #3B4455;\n",
              "      --disabled-fill-color: #666;\n",
              "  }\n",
              "\n",
              "  .colab-df-quickchart {\n",
              "    background-color: var(--bg-color);\n",
              "    border: none;\n",
              "    border-radius: 50%;\n",
              "    cursor: pointer;\n",
              "    display: none;\n",
              "    fill: var(--fill-color);\n",
              "    height: 32px;\n",
              "    padding: 0;\n",
              "    width: 32px;\n",
              "  }\n",
              "\n",
              "  .colab-df-quickchart:hover {\n",
              "    background-color: var(--hover-bg-color);\n",
              "    box-shadow: 0 1px 2px rgba(60, 64, 67, 0.3), 0 1px 3px 1px rgba(60, 64, 67, 0.15);\n",
              "    fill: var(--button-hover-fill-color);\n",
              "  }\n",
              "\n",
              "  .colab-df-quickchart-complete:disabled,\n",
              "  .colab-df-quickchart-complete:disabled:hover {\n",
              "    background-color: var(--disabled-bg-color);\n",
              "    fill: var(--disabled-fill-color);\n",
              "    box-shadow: none;\n",
              "  }\n",
              "\n",
              "  .colab-df-spinner {\n",
              "    border: 2px solid var(--fill-color);\n",
              "    border-color: transparent;\n",
              "    border-bottom-color: var(--fill-color);\n",
              "    animation:\n",
              "      spin 1s steps(1) infinite;\n",
              "  }\n",
              "\n",
              "  @keyframes spin {\n",
              "    0% {\n",
              "      border-color: transparent;\n",
              "      border-bottom-color: var(--fill-color);\n",
              "      border-left-color: var(--fill-color);\n",
              "    }\n",
              "    20% {\n",
              "      border-color: transparent;\n",
              "      border-left-color: var(--fill-color);\n",
              "      border-top-color: var(--fill-color);\n",
              "    }\n",
              "    30% {\n",
              "      border-color: transparent;\n",
              "      border-left-color: var(--fill-color);\n",
              "      border-top-color: var(--fill-color);\n",
              "      border-right-color: var(--fill-color);\n",
              "    }\n",
              "    40% {\n",
              "      border-color: transparent;\n",
              "      border-right-color: var(--fill-color);\n",
              "      border-top-color: var(--fill-color);\n",
              "    }\n",
              "    60% {\n",
              "      border-color: transparent;\n",
              "      border-right-color: var(--fill-color);\n",
              "    }\n",
              "    80% {\n",
              "      border-color: transparent;\n",
              "      border-right-color: var(--fill-color);\n",
              "      border-bottom-color: var(--fill-color);\n",
              "    }\n",
              "    90% {\n",
              "      border-color: transparent;\n",
              "      border-bottom-color: var(--fill-color);\n",
              "    }\n",
              "  }\n",
              "</style>\n",
              "\n",
              "  <script>\n",
              "    async function quickchart(key) {\n",
              "      const quickchartButtonEl =\n",
              "        document.querySelector('#' + key + ' button');\n",
              "      quickchartButtonEl.disabled = true;  // To prevent multiple clicks.\n",
              "      quickchartButtonEl.classList.add('colab-df-spinner');\n",
              "      try {\n",
              "        const charts = await google.colab.kernel.invokeFunction(\n",
              "            'suggestCharts', [key], {});\n",
              "      } catch (error) {\n",
              "        console.error('Error during call to suggestCharts:', error);\n",
              "      }\n",
              "      quickchartButtonEl.classList.remove('colab-df-spinner');\n",
              "      quickchartButtonEl.classList.add('colab-df-quickchart-complete');\n",
              "    }\n",
              "    (() => {\n",
              "      let quickchartButtonEl =\n",
              "        document.querySelector('#df-406f92bc-9260-4de1-b2a6-2ee7017e7f1f button');\n",
              "      quickchartButtonEl.style.display =\n",
              "        google.colab.kernel.accessAllowed ? 'block' : 'none';\n",
              "    })();\n",
              "  </script>\n",
              "</div>\n",
              "    </div>\n",
              "  </div>\n"
            ],
            "application/vnd.google.colaboratory.intrinsic+json": {
              "type": "dataframe",
              "variable_name": "dataset",
              "summary": "{\n  \"name\": \"dataset\",\n  \"rows\": 83448,\n  \"fields\": [\n    {\n      \"column\": \"label\",\n      \"properties\": {\n        \"dtype\": \"number\",\n        \"std\": 0,\n        \"min\": 0,\n        \"max\": 1,\n        \"num_unique_values\": 2,\n        \"samples\": [\n          0,\n          1\n        ],\n        \"semantic_type\": \"\",\n        \"description\": \"\"\n      }\n    },\n    {\n      \"column\": \"text\",\n      \"properties\": {\n        \"dtype\": \"string\",\n        \"num_unique_values\": 83446,\n        \"samples\": [\n          \"so hard that he can't find time to write to his friends escapenumberf take good care of him aescapenumber aescapenumber they also threatened to destroy fire away then since you are up commanded frank tell him without words so hard that he can't find time to write to his friends escapenumberf take good care of him so hard that he can't find time to write to his friends escapenumberf take good care of him bat's word was law in some things so molly had to submit and took boo away bow aescapenumber aescapenumberas if he had outgrown them and wanted something manlier he took to the hated as if he had outgrown them and wanted something manlier he took to the hated aescapenumber aescapenumberdown workwomen but wishes us to pay them well and economize in some other the house if you feel sociable and your evenings are always free come to me him near her and flapped her fan vigorously whenever he was in sight which with a bucket of water are not pleased for charlie is too presuming and you do need someone to help instantly laid away for repairs and its disappointed maker devoted his energies to helping aescapenumber aescapenumberhead wisely listening to my moral remarks mrs laurence and laurie paused for amy's aescapenumber escapelong how does she behave escapenumberf asked phebe longing for news but too grateful ants when their hill is disturbed of course half a dozen amiable souls posted to have you get thin and pale you know peggy was a jolly lass how beautiful it is cried fanny the drawer took up the little gray book which was her pride thinking christie when her hostess returned and found her warmed refreshed aescapenumber aescapenumber don't then emil who had got his breath by this time gave aescapenumber aescapenumberthen giving a great spring he shot through the air and landed safely anguish as she cried was himself again but it was evident that his sufferings were not smile and agile motion of every limb old ben carried the bag in one soon to tell her all about it you are your active life has done much in some ways to make a man warming and fill the kettle i'll see to the boy commanded mrs aescapenumber aescapenumberat work the sewing room was quite irresistible and he made himself aescapenumber aescapenumbereye showed that his love trials did not quite blind him to the comic aunt looked sober at first but he was so cool about it she couldn't from heart disease and the slightest excitement might kill us if pat while he curried lita till her coat shone like satin then drove is absent template better for it though the memory of it is still bitter and the cross aescapenumber aescapenumber i find don't be a with an unsparing hand institution had not yet made its rules as fixed as the laws of the medes aescapenumber aescapenumberuncle henry smiled and cuddled his little niece\",\n          \"bull market report lescapenumberkup adovcurrent escapenumber escapenumber day target price escapenumber escapelong steadily climb for the top this sym is gaining momentum adov have released very hot news check this out theorize and call to your brocker right now \"\n        ],\n        \"semantic_type\": \"\",\n        \"description\": \"\"\n      }\n    }\n  ]\n}"
            }
          },
          "metadata": {},
          "execution_count": 6
        }
      ],
      "source": [
        "dataset"
      ]
    },
    {
      "cell_type": "code",
      "execution_count": null,
      "metadata": {
        "id": "3vibYCDr-nbZ",
        "colab": {
          "base_uri": "https://localhost:8080/"
        },
        "outputId": "1e9ca59b-6bd3-4e09-b977-f4ff60c910e0"
      },
      "outputs": [
        {
          "output_type": "stream",
          "name": "stdout",
          "text": [
            "label    0\n",
            "text     0\n",
            "dtype: int64\n"
          ]
        }
      ],
      "source": [
        "print(dataset.isnull().sum())"
      ]
    },
    {
      "cell_type": "code",
      "execution_count": null,
      "metadata": {
        "id": "3JodjLEL-xmw",
        "colab": {
          "base_uri": "https://localhost:8080/"
        },
        "outputId": "13b032ce-1913-493e-f082-80c3cd4cf1e0"
      },
      "outputs": [
        {
          "output_type": "stream",
          "name": "stdout",
          "text": [
            "(83448, 2)\n"
          ]
        }
      ],
      "source": [
        "print(dataset.shape)"
      ]
    },
    {
      "cell_type": "code",
      "execution_count": null,
      "metadata": {
        "id": "MeKVWTNu5di0",
        "colab": {
          "base_uri": "https://localhost:8080/"
        },
        "outputId": "2509909e-bfc5-4268-a4e0-d0c7e2e3524f"
      },
      "outputs": [
        {
          "output_type": "execute_result",
          "data": {
            "text/plain": [
              "0        ounce feather bowl hummingbird opec moment ala...\n",
              "1        wulvob get your medircations online qnb ikud v...\n",
              "2         computer connection from cnn com wednesday es...\n",
              "3        university degree obtain a prosperous future m...\n",
              "4        thanks for all your answers guys i know i shou...\n",
              "                               ...                        \n",
              "83443    hi given a date how do i get the last date of ...\n",
              "83444    now you can order software on cd or download i...\n",
              "83445    dear valued member canadianpharmacy provides a...\n",
              "83446    subscribe change profile contact us long term ...\n",
              "83447    get the most out of life ! viagra has helped m...\n",
              "Name: text, Length: 83448, dtype: object"
            ]
          },
          "metadata": {},
          "execution_count": 9
        }
      ],
      "source": [
        "dataset['text']"
      ]
    },
    {
      "cell_type": "code",
      "execution_count": null,
      "metadata": {
        "id": "yfgOrgoHOZ0z"
      },
      "outputs": [],
      "source": [
        "dataset[\"text_lower\"] = dataset[\"text\"].str.lower() #making text lowercase"
      ]
    },
    {
      "cell_type": "code",
      "execution_count": null,
      "metadata": {
        "id": "SMAD4wsE6Y3e",
        "colab": {
          "base_uri": "https://localhost:8080/"
        },
        "outputId": "fdf2cfbb-30e1-445b-c0a1-30ea1d02c98d"
      },
      "outputs": [
        {
          "output_type": "stream",
          "name": "stdout",
          "text": [
            "!\"#$%&'()*+,-./:;<=>?@[\\]^_`{|}~\n"
          ]
        }
      ],
      "source": [
        "#Using a function to remove special characters\n",
        "special_chars = string.punctuation\n",
        "print(special_chars)\n",
        "\n",
        "def removeSpecial(word):\n",
        "  return word.translate(str.maketrans('', '', special_chars))\n",
        "\n",
        "#function to remove numbers\n",
        "def removeNumbers(word):\n",
        "  res=re.sub(\"[0-9]\",\"\",word)\n",
        "  return res\n",
        "\n"
      ]
    },
    {
      "cell_type": "code",
      "execution_count": null,
      "metadata": {
        "id": "OsCrTiMLAahL"
      },
      "outputs": [],
      "source": [
        "dataset[\"text_lower\"] = dataset[\"text_lower\"].apply(removeSpecial) #Takes each text entry in the \"text_lower\" column and removes any special characters"
      ]
    },
    {
      "cell_type": "code",
      "execution_count": null,
      "metadata": {
        "id": "6Ds4NwCQRdBo"
      },
      "outputs": [],
      "source": [
        "dataset[\"text_lower\"] = dataset[\"text_lower\"].apply(removeNumbers) #Takes each text entry in the \"text_lower\" column  and removes any numbers"
      ]
    },
    {
      "cell_type": "code",
      "execution_count": null,
      "metadata": {
        "id": "yFttTzY37ZmM",
        "colab": {
          "base_uri": "https://localhost:8080/",
          "height": 53
        },
        "outputId": "1b15347d-ac09-4ad8-f9bd-bf3660e8af65"
      },
      "outputs": [
        {
          "output_type": "execute_result",
          "data": {
            "text/plain": [
              "'IOPub data rate exceeded.\\nThe notebook server will temporarily stop sending output\\nto the client in order to avoid crashing it.\\nTo change this limit, set the config variable\\n`--NotebookApp.iopub_data_rate_limit`.\\n\\nCurrent values:\\nNotebookApp.iopub_data_rate_limit=1000000.0 (bytes/sec)\\nNotebookApp.rate_limit_window=3.0 (secs)'"
            ],
            "application/vnd.google.colaboratory.intrinsic+json": {
              "type": "string"
            }
          },
          "metadata": {},
          "execution_count": 14
        }
      ],
      "source": [
        "\n",
        "'''IOPub data rate exceeded.\n",
        "The notebook server will temporarily stop sending output\n",
        "to the client in order to avoid crashing it.\n",
        "To change this limit, set the config variable\n",
        "`--NotebookApp.iopub_data_rate_limit`.\n",
        "\n",
        "Current values:\n",
        "NotebookApp.iopub_data_rate_limit=1000000.0 (bytes/sec)\n",
        "NotebookApp.rate_limit_window=3.0 (secs)'''"
      ]
    },
    {
      "cell_type": "code",
      "execution_count": null,
      "metadata": {
        "id": "lcMBAIOzBd--",
        "colab": {
          "base_uri": "https://localhost:8080/"
        },
        "outputId": "1280062a-dad9-404a-a931-4a957761906b"
      },
      "outputs": [
        {
          "output_type": "stream",
          "name": "stdout",
          "text": [
            "{'below', 'don', 'themselves', 'was', 'further', 'doing', 'mustn', 'there', 'most', 'that', \"won't\", 'wouldn', 'this', 'these', 'on', 'during', \"needn't\", 'll', 'itself', \"she's\", 'hers', 'them', 'no', 't', \"hasn't\", 'doesn', 'nor', \"shouldn't\", 'but', 'where', 'any', \"should've\", 're', 'at', 'not', 'couldn', 'under', 'theirs', 'such', 've', \"shan't\", 'you', \"it's\", 'their', 'now', 'ain', 'been', 'haven', \"you've\", 'yourself', 'all', 'y', 'they', 'which', 'what', 'in', 'can', \"isn't\", 'will', 'from', 'the', 'herself', \"couldn't\", 'ourselves', 'than', 'is', 'whom', 'have', 'when', 'shouldn', 'above', 'needn', \"that'll\", 'am', 'for', 'before', 'more', 'she', 'between', \"you'll\", 'hasn', 'after', \"mustn't\", \"aren't\", 'a', 'only', 'of', 'then', 'has', 'him', 'yourselves', 'being', 'if', 'having', 'by', \"didn't\", 'won', 'were', 'ours', 'own', 'myself', 'd', 'while', 'through', \"wasn't\", 'yours', 'be', 'down', 'aren', 'once', 'his', 'i', \"weren't\", 'or', 'does', 'didn', 'about', 'why', 'out', 'as', 'with', 'did', 'same', \"haven't\", 'so', \"hadn't\", 'because', 'to', 'an', 'do', \"wouldn't\", 'your', 's', 'm', 'both', 'those', 'our', 'hadn', 'here', 'should', 'are', 'over', 'too', 'had', \"you'd\", 'how', 'until', \"you're\", 'and', 'just', \"doesn't\", 'shan', 'its', 'very', 'my', 'isn', 'mightn', 'wasn', \"mightn't\", 'against', 'o', 'me', 'her', 'ma', 'weren', 'some', 'again', 'each', 'up', 'we', 'who', 'few', 'it', 'off', 'into', \"don't\", 'himself', 'other', 'he'}\n"
          ]
        }
      ],
      "source": [
        "stop_words = set(stopwords.words('english'))\n",
        "print(stop_words)\n",
        "def remove_stop_words(words):\n",
        "  wordle = []\n",
        "  for w in words:\n",
        "    if w not in stop_words:\n",
        "      wordle.append(w)\n",
        "  return wordle\n"
      ]
    },
    {
      "cell_type": "code",
      "execution_count": null,
      "metadata": {
        "id": "amTVegCGD8br"
      },
      "outputs": [],
      "source": [
        "dataset['text_lower'] = dataset['text_lower'].apply(word_tokenize) #Takes the dataset and splits each text into a list of words.\n"
      ]
    },
    {
      "cell_type": "code",
      "execution_count": null,
      "metadata": {
        "id": "RcbBGVbbPMg8",
        "colab": {
          "base_uri": "https://localhost:8080/"
        },
        "outputId": "a716e5ef-9f92-4107-b23e-b37c6985baea"
      },
      "outputs": [
        {
          "output_type": "execute_result",
          "data": {
            "text/plain": [
              "0    [ounce, feather, bowl, hummingbird, opec, mome...\n",
              "1    [wulvob, get, your, medircations, online, qnb,...\n",
              "2    [computer, connection, from, cnn, com, wednesd...\n",
              "3    [university, degree, obtain, a, prosperous, fu...\n",
              "4    [thanks, for, all, your, answers, guys, i, kno...\n",
              "Name: text_lower, dtype: object"
            ]
          },
          "metadata": {},
          "execution_count": 17
        }
      ],
      "source": [
        "dataset['text_lower'].head() #Shows the beginning of the text data after the sentences have been splitted into individual words."
      ]
    },
    {
      "cell_type": "code",
      "execution_count": null,
      "metadata": {
        "id": "OY8E59BfEyc-"
      },
      "outputs": [],
      "source": [
        "dataset['text_lower'] = dataset['text_lower'].apply(remove_stop_words) #Takes each text entry in the \"text_lower\" column and removes any stop words"
      ]
    },
    {
      "cell_type": "code",
      "execution_count": null,
      "metadata": {
        "id": "1sOfehcZNUO9",
        "colab": {
          "base_uri": "https://localhost:8080/"
        },
        "outputId": "fe6e8645-93ce-4b5b-9db4-85283f988fd0"
      },
      "outputs": [
        {
          "output_type": "execute_result",
          "data": {
            "text/plain": [
              "0    [ounce, feather, bowl, hummingbird, opec, mome...\n",
              "1    [wulvob, get, medircations, online, qnb, ikud,...\n",
              "2    [computer, connection, cnn, com, wednesday, es...\n",
              "3    [university, degree, obtain, prosperous, futur...\n",
              "4    [thanks, answers, guys, know, checked, rsync, ...\n",
              "Name: text_lower, dtype: object"
            ]
          },
          "metadata": {},
          "execution_count": 19
        }
      ],
      "source": [
        "dataset['text_lower'].head() #Shows the beginning of the text data after the sentences have been splitted into individual words."
      ]
    },
    {
      "cell_type": "code",
      "execution_count": null,
      "metadata": {
        "id": "Dba3QoScXASh"
      },
      "outputs": [],
      "source": [
        "#Created a function that takes a list of words and then scans each word for URLs and removes them and then returns the modified list of words without any URLs.\n",
        "def removeURL(words):\n",
        "  noURL = []\n",
        "  for w in words:\n",
        "    noURL.append(re.sub(r\"https?:[^\\s]+\", '', w))\n",
        "  return noURL\n",
        "\n",
        "'''def cleanURL(words): #cleans after removeing url links\n",
        "  c1 = []\n",
        "  c2 = []\n",
        "  for w in words:\n",
        "    c1.append(w.lstrip(\"httpswww\"))\n",
        "  for c in c1:\n",
        "    c2.append(w.lstrip(\"https\"))\n",
        "  return c1'''\n",
        "\n",
        "#Created a function that takes a list of words and then scans each word for HTML tags and removes them and then returns the modified list of words without any HTML tags.\n",
        "def removeHTML(words):\n",
        "  res = []\n",
        "  for w in words:\n",
        "    res.append(re.sub(r'<.*?>', \"\", w))\n",
        "  return res\n"
      ]
    },
    {
      "cell_type": "code",
      "execution_count": null,
      "metadata": {
        "id": "Z3Y8Ssu965av"
      },
      "outputs": [],
      "source": [
        "dataset['text_lower'] = dataset['text_lower'].apply(removeURL) #Takes each text entry in the \"text_lower\" column and removes any URLs"
      ]
    },
    {
      "cell_type": "code",
      "source": [
        "dataset['text_lower'].head() #Shows the beginning of text data after the URLs have been removed from the email."
      ],
      "metadata": {
        "colab": {
          "base_uri": "https://localhost:8080/"
        },
        "id": "x6qOvu9mfwQ-",
        "outputId": "cdc2432a-24bb-4343-c8e7-e7bfbc253acd"
      },
      "execution_count": null,
      "outputs": [
        {
          "output_type": "execute_result",
          "data": {
            "text/plain": [
              "0    [ounce, feather, bowl, hummingbird, opec, mome...\n",
              "1    [wulvob, get, medircations, online, qnb, ikud,...\n",
              "2    [computer, connection, cnn, com, wednesday, es...\n",
              "3    [university, degree, obtain, prosperous, futur...\n",
              "4    [thanks, answers, guys, know, checked, rsync, ...\n",
              "Name: text_lower, dtype: object"
            ]
          },
          "metadata": {},
          "execution_count": 22
        }
      ]
    },
    {
      "cell_type": "code",
      "source": [
        "#dataset['text_lower'] = dataset['text_lower'].apply(cleanURL)"
      ],
      "metadata": {
        "id": "6XxDk4SLfskg"
      },
      "execution_count": null,
      "outputs": []
    },
    {
      "cell_type": "code",
      "execution_count": null,
      "metadata": {
        "id": "rlAcsAs37Oho"
      },
      "outputs": [],
      "source": [
        "#dataset['text_lower'].head() #Shows the beginning of the text data after the urls have been removed."
      ]
    },
    {
      "cell_type": "code",
      "execution_count": null,
      "metadata": {
        "id": "MK4NlflwYbZ8"
      },
      "outputs": [],
      "source": [
        "dataset['text_lower'] = dataset['text_lower'].apply(removeHTML) #Takes each text entry in the \"text_lower\" column and removes any HTML Tags"
      ]
    },
    {
      "cell_type": "code",
      "execution_count": null,
      "metadata": {
        "id": "GBSHZTWPYh-0",
        "colab": {
          "base_uri": "https://localhost:8080/"
        },
        "outputId": "4c654268-4bbf-4d74-e797-7fe1238390c9"
      },
      "outputs": [
        {
          "output_type": "execute_result",
          "data": {
            "text/plain": [
              "0    [ounce, feather, bowl, hummingbird, opec, mome...\n",
              "1    [wulvob, get, medircations, online, qnb, ikud,...\n",
              "2    [computer, connection, cnn, com, wednesday, es...\n",
              "3    [university, degree, obtain, prosperous, futur...\n",
              "4    [thanks, answers, guys, know, checked, rsync, ...\n",
              "Name: text_lower, dtype: object"
            ]
          },
          "metadata": {},
          "execution_count": 26
        }
      ],
      "source": [
        "dataset['text_lower'].head() #Shows the beginning of text data after the HTML Tags have been removed from the email."
      ]
    },
    {
      "cell_type": "code",
      "execution_count": null,
      "metadata": {
        "id": "H2RkxMygE0mo"
      },
      "outputs": [],
      "source": [
        "dataset['text_lower'] = dataset['text_lower'].apply(' '.join) #Concaternate the elements of each row in the \"text_lower\" column of the dataset into a single string that is seperated by spaces."
      ]
    },
    {
      "cell_type": "code",
      "execution_count": null,
      "metadata": {
        "id": "A-Y8KvAzVDWV",
        "colab": {
          "base_uri": "https://localhost:8080/"
        },
        "outputId": "805fe46e-f3ac-4e2c-f7c4-49cd2d313709"
      },
      "outputs": [
        {
          "output_type": "execute_result",
          "data": {
            "text/plain": [
              "0    ounce feather bowl hummingbird opec moment ala...\n",
              "1    wulvob get medircations online qnb ikud viagra...\n",
              "2    computer connection cnn com wednesday escapenu...\n",
              "3    university degree obtain prosperous future mon...\n",
              "4    thanks answers guys know checked rsync manual ...\n",
              "Name: text_lower, dtype: object"
            ]
          },
          "metadata": {},
          "execution_count": 28
        }
      ],
      "source": [
        "dataset['text_lower'].head() #Shows the beginning of text data after it is in a single string that is seperated by spaces."
      ]
    },
    {
      "cell_type": "code",
      "execution_count": null,
      "metadata": {
        "id": "lYsjrbSQVTfD",
        "colab": {
          "base_uri": "https://localhost:8080/"
        },
        "outputId": "28add073-52d1-47b9-ce38-bc6e0c5926be"
      },
      "outputs": [
        {
          "output_type": "execute_result",
          "data": {
            "text/plain": [
              "0        ounce feather bowl hummingbird opec moment ala...\n",
              "1        wulvob get medircations online qnb ikud viagra...\n",
              "2        computer connection cnn com wednesday escapenu...\n",
              "3        university degree obtain prosperous future mon...\n",
              "4        thanks answers guys know checked rsync manual ...\n",
              "                               ...                        \n",
              "83443    hi given date get last date month data form yy...\n",
              "83444    order software cd download site immediately de...\n",
              "83445    dear valued member canadianpharmacy provides w...\n",
              "83446    subscribe change profile contact us long term ...\n",
              "83447    get life viagra helped millions men good cause...\n",
              "Name: text_lower, Length: 83448, dtype: object"
            ]
          },
          "metadata": {},
          "execution_count": 29
        }
      ],
      "source": [
        "dataset['text_lower']"
      ]
    },
    {
      "cell_type": "code",
      "execution_count": null,
      "metadata": {
        "id": "G_AJarlkxfGt",
        "colab": {
          "base_uri": "https://localhost:8080/"
        },
        "outputId": "60ae537b-2193-46bd-94c5-e21611ab5946"
      },
      "outputs": [
        {
          "output_type": "stream",
          "name": "stdout",
          "text": [
            "28853    escapenumber escapenumber escapenumber escapen...\n",
            "23338    hi j andres probably better using adeescapenum...\n",
            "57303    carry prescription non prescription drugs coul...\n",
            "76772    cbs news learned four people charged thwarted ...\n",
            "73777    downey simple pleasures r fabric softener samp...\n",
            "                               ...                        \n",
            "21440    hi folks attached go updating sambaescapenumbe...\n",
            "73349    biostatistician statistical programmer data an...\n",
            "50057    know escapenumber girls prefer guys descent ra...\n",
            "5192     sebastian p luque wrote came across case there...\n",
            "77708    order provide appropriate degree coordination ...\n",
            "Name: text_lower, Length: 58413, dtype: object\n",
            "28853    0\n",
            "23338    0\n",
            "57303    1\n",
            "76772    0\n",
            "73777    1\n",
            "        ..\n",
            "21440    0\n",
            "73349    0\n",
            "50057    1\n",
            "5192     0\n",
            "77708    0\n",
            "Name: label, Length: 58413, dtype: int64\n",
            "48104    team attached memo would like send hart settin...\n",
            "41270    hi attached patch minimally enables named stre...\n",
            "17204    dear customer secret lots online pharmacies ch...\n",
            "33996    vince include slide london let know think need...\n",
            "29591    person see good clean crime example pull see a...\n",
            "                               ...                        \n",
            "23633    thu escapenumber jun escapenumber escapenumber...\n",
            "40221    look prices canon eos escapenumberd digital sl...\n",
            "4116     ppm install c tempwinescapenumber api escapenu...\n",
            "22586    hi exactly replicated dreamwatches million sol...\n",
            "21907    thine heart ships iron know jezreel hard unto ...\n",
            "Name: text_lower, Length: 25035, dtype: object\n",
            "48104    0\n",
            "41270    0\n",
            "17204    1\n",
            "33996    0\n",
            "29591    1\n",
            "        ..\n",
            "23633    0\n",
            "40221    1\n",
            "4116     0\n",
            "22586    1\n",
            "21907    1\n",
            "Name: label, Length: 25035, dtype: int64\n"
          ]
        }
      ],
      "source": [
        "#Data Splitting Here\n",
        "#Splits the text column of the dataset as input data(x) and the labl column as the output data(y).\n",
        "x_train, x_test, y_train, y_test = train_test_split(dataset['text_lower'], dataset['label'], test_size = 0.3, train_size = 0.7, random_state = 1)\n",
        "print(x_train)\n",
        "print(y_train)\n",
        "print(x_test)\n",
        "print(y_test)\n"
      ]
    },
    {
      "cell_type": "code",
      "execution_count": null,
      "metadata": {
        "id": "DWaVtrfWV3aF",
        "colab": {
          "base_uri": "https://localhost:8080/"
        },
        "outputId": "3de819d0-73ad-4279-9eeb-9d69a3f352e2"
      },
      "outputs": [
        {
          "output_type": "stream",
          "name": "stdout",
          "text": [
            "[1, 1, 1, 1, 1, 63, 1415, 84, 178, 284, 396, 86, 1051, 28, 3151, 22, 48, 1267, 179, 187, 4142, 75, 992, 2184, 670, 255, 3534, 63, 18, 695, 129, 2194, 2758, 695, 91, 13, 41, 418, 91, 78, 8, 288, 828, 13, 41, 418, 15, 78, 8, 3, 387, 78, 8]\n",
            "[232, 153, 704, 261, 111, 331, 87, 1257, 68, 13, 111, 3176, 1505, 48, 756, 2674, 271, 489, 153, 84, 521, 3649, 12, 5, 277, 239, 1167, 48, 3177, 3353, 869, 631, 1767, 3176, 1505, 172, 131, 5, 1505, 343, 48, 863, 10, 1, 2202, 1, 1505, 1179, 1179, 268, 109, 153, 664, 40, 149, 1013, 5, 15, 43, 116, 46, 44, 66, 19, 169, 43, 46, 44, 79, 93, 5, 15, 9, 54, 55, 52, 3, 11, 5, 74, 8, 55, 52, 40, 71, 167, 164, 81, 139, 175, 56, 257, 34, 421, 3, 11, 2554, 4, 172, 2171, 863, 4424, 40, 5, 15, 66, 19, 1342, 2554, 4, 5, 15, 43, 116, 46, 44, 66, 43, 46, 44, 79, 93, 5, 54, 55, 52, 3, 11, 5, 74, 8, 55, 52, 71, 167, 164, 81, 139, 175, 56]\n",
            "[2703, 1793, 477, 1793, 346, 51, 68, 750, 482, 917, 396, 1109, 1420, 1793, 554, 64, 461, 954, 217, 27, 191, 231, 137, 362, 22, 2556, 127, 61, 329, 48, 247, 137, 362, 120, 176, 96, 3205, 3009, 3829, 526, 3, 11, 4, 2031, 40]\n",
            "[354, 32, 2792, 830, 77, 3261, 4734, 846, 4114, 2071, 3450, 12, 345, 783, 283, 77, 493, 76, 326, 11, 1458, 4, 1458, 4, 1975, 635, 450, 1975, 2939, 327, 1412, 1458, 4, 689, 339, 1819, 3, 11, 1458, 4, 1975, 311, 622, 493, 1416, 354, 32, 1580, 32, 66, 19, 91, 86, 3, 11, 1458, 4, 2269, 91, 622]\n",
            "[570, 5, 2891, 3, 4, 7, 1, 3222, 4947, 40, 395, 693, 3535, 198, 2891, 3, 4, 7, 1, 3222, 4947, 40, 198, 2891, 753, 1, 1988, 2646, 800, 1, 12, 345, 1046, 1, 4009, 198, 2891, 198, 2891, 1350, 2472, 213, 2045, 2517, 218, 1063, 198, 2891, 2452, 1684, 957, 4055, 192, 957, 617, 1, 2366, 1791, 1, 3796, 4572, 203, 36, 957, 1551, 1, 636, 1246, 2924, 1492, 365, 1004, 300, 1902, 1, 198, 2891, 265, 392, 340, 34, 1094, 4, 16, 960, 96, 2391, 4316, 198, 96, 139, 34, 2151, 192, 645, 27, 3, 4, 311, 622, 121, 3222, 13, 4844, 759, 523, 90, 689, 2065, 208, 1, 456, 3194, 3983, 1327, 1234, 2411, 4425, 1, 1]\n"
          ]
        }
      ],
      "source": [
        "#Input Size\n",
        "max_words = 5000\n",
        "\n",
        "#Initializes the tokenizer object.\n",
        "tokenizer = Tokenizer(num_words=max_words)\n",
        "tokenizer.fit_on_texts(x_train)\n",
        "x_train_seq = tokenizer.texts_to_sequences(x_train)\n",
        "x_test_seq = tokenizer.texts_to_sequences(x_test)\n",
        "\n",
        "iii = 0\n",
        "while iii < 5:\n",
        "  print(x_train_seq[iii])\n",
        "  iii+=1\n",
        "\n",
        "\n"
      ]
    },
    {
      "cell_type": "code",
      "execution_count": null,
      "metadata": {
        "id": "FJgKNd2HBLyY",
        "colab": {
          "base_uri": "https://localhost:8080/"
        },
        "outputId": "45ffeb6a-1ccc-4420-dbc8-5521a2f10ad5"
      },
      "outputs": [
        {
          "output_type": "stream",
          "name": "stdout",
          "text": [
            "Mean Length of Emails: 1288.097389991372\n",
            "644\n"
          ]
        }
      ],
      "source": [
        "mean_length = dataset['text_lower'].apply(len).mean()\n",
        "print(f\"Mean Length of Emails: {str(mean_length)}\")\n",
        "\n",
        "max_length = int(mean_length/2)\n",
        "print(max_length)"
      ]
    },
    {
      "cell_type": "code",
      "execution_count": null,
      "metadata": {
        "id": "NEzOC5T9wczf",
        "colab": {
          "base_uri": "https://localhost:8080/"
        },
        "outputId": "bd005811-aba2-4eb7-886c-4341972b98ea"
      },
      "outputs": [
        {
          "output_type": "stream",
          "name": "stdout",
          "text": [
            "[   0    0    0    0    0    0    0    0    0    0    0    0    0    0\n",
            "    0    0    0    0    0    0    0    0    0    0    0    0    0    0\n",
            "    0    0    0    0    0    0    0    0    0    0    0    0    0    0\n",
            "    0    0    0    0    0    0    0    0    0    0    0    0    0    0\n",
            "    0    0    0    0    0    0    0    0    0    0    0    0    0    0\n",
            "    0    0    0    0    0    0    0    0    0    0    0    0    0    0\n",
            "    0    0    0    0    0    0    0    0    0    0    0    0    0    0\n",
            "    0    0    0    0    0    0    0    0    0    0    0    0    0    0\n",
            "    0    0    0    0    0    0    0    0    0    0    0    0    0    0\n",
            "    0    0    0    0    0    0    0    0    0    0    0    0    0    0\n",
            "    0    0    0    0    0    0    0    0    0    0    0    0    0    0\n",
            "    0    0    0    0    0    0    0    0    0    0    0    0    0    0\n",
            "    0    0    0    0    0    0    0    0    0    0    0    0    0    0\n",
            "    0    0    0    0    0    0    0    0    0    0    0    0    0    0\n",
            "    0    0    0    0    0    0    0    0    0    0    0    0    0    0\n",
            "    0    0    0    0    0    0    0    0    0    0    0    0    0    0\n",
            "    0    0    0    0    0    0    0    0    0    0    0    0    0    0\n",
            "    0    0    0    0    0    0    0    0    0    0    0    0    0    0\n",
            "    0    0    0    0    0    0    0    0    0    0    0    0    0    0\n",
            "    0    0    0    0    0    0    0    0    0    0    0    0    0    0\n",
            "    0    0    0    0    0    0    0    0    0    0    0    0    0    0\n",
            "    0    0    0    0    0    0    0    0    0    0    0    0    0    0\n",
            "    0    0    0    0    0    0    0    0    0    0    0    0    0    0\n",
            "    0    0    0    0    0    0    0    0    0    0    0    0    0    0\n",
            "    0    0    0    0    0    0    0    0    0    0    0    0    0    0\n",
            "    0    0    0    0    0    0    0    0    0    0    0    0    0    0\n",
            "    0    0    0    0    0    0    0    0    0    0    0    0    0    0\n",
            "    0    0    0    0    0    0    0    0    0    0    0    0    0    0\n",
            "    0    0    0    0    0    0    0    0    0    0    0    0    0    0\n",
            "    0    0    0    0    0    0    0    0    0    0    0    0    0    0\n",
            "    0    0    0    0    0    0    0    0    0    0    0    0    0    0\n",
            "    0    0    0    0    0    0    0    0    0    0    0    0    0    0\n",
            "    0    0    0    0    0    0    0    0    0    0    0    0    0    0\n",
            "    0    0    0    0    0    0    0    0    0    0    0    0    0    0\n",
            "    0    0    0    0    0    0    0    0    0    0    0    0    0    0\n",
            "    0    0    0    0    0    0    0    0    0    0    0    0    0    0\n",
            "    0    0    0    0    0    0    0    0    0    0    0    0    0    0\n",
            "    0    0    0    0    0    0    0    0    0    0    0    0    0    0\n",
            "    0    0    0    0    0    0    0    0    0    0    0    0    0    0\n",
            "    0    0    0    0    0    0    0    0    0    0    0    0    0    0\n",
            "    0    0    0    0    0    0    0    0    0    0    0    0    0    0\n",
            "    0    0    0    0    0    0    0    0    0    0    0    0    0    0\n",
            "    0    0    0    1    1    1    1    1   63 1415   84  178  284  396\n",
            "   86 1051   28 3151   22   48 1267  179  187 4142   75  992 2184  670\n",
            "  255 3534   63   18  695  129 2194 2758  695   91   13   41  418   91\n",
            "   78    8  288  828   13   41  418   15   78    8    3  387   78    8]\n",
            "[   0    0    0    0    0    0    0    0    0    0    0    0    0    0\n",
            "    0    0    0    0    0    0    0    0    0    0    0    0    0    0\n",
            "    0    0    0    0    0    0    0    0    0    0    0    0    0    0\n",
            "    0    0    0    0    0    0    0    0    0    0    0    0    0    0\n",
            "    0    0    0    0    0    0    0    0    0    0    0    0    0    0\n",
            "    0    0    0    0    0    0    0    0    0    0    0    0    0    0\n",
            "    0    0    0    0    0    0    0    0    0    0    0    0    0    0\n",
            "    0    0    0    0    0    0    0    0    0    0    0    0    0    0\n",
            "    0    0    0    0    0    0    0    0    0    0    0    0    0    0\n",
            "    0    0    0    0    0    0    0    0    0    0    0    0    0    0\n",
            "    0    0    0    0    0    0    0    0    0    0    0    0    0    0\n",
            "    0    0    0    0    0    0    0    0    0    0    0    0    0    0\n",
            "    0    0    0    0    0    0    0    0    0    0    0    0    0    0\n",
            "    0    0    0    0    0    0    0    0    0    0    0    0    0    0\n",
            "    0    0    0    0    0    0    0    0    0    0    0    0    0    0\n",
            "    0    0    0    0    0    0    0    0    0    0    0    0    0    0\n",
            "    0    0    0    0    0    0    0    0    0    0    0    0    0    0\n",
            "    0    0    0    0    0    0    0    0    0    0    0    0    0    0\n",
            "    0    0    0    0    0    0    0    0    0    0    0    0    0    0\n",
            "    0    0    0    0    0    0    0    0    0    0    0    0    0    0\n",
            "    0    0    0    0    0    0    0    0    0    0    0    0    0    0\n",
            "    0    0    0    0    0    0    0    0    0    0    0    0    0    0\n",
            "    0    0    0    0    0    0    0    0    0    0    0    0    0    0\n",
            "    0    0    0    0    0    0    0    0    0    0    0    0    0    0\n",
            "    0    0    0    0    0    0    0    0    0    0    0    0    0    0\n",
            "    0    0    0    0    0    0    0    0    0    0    0    0    0    0\n",
            "    0    0    0    0    0    0    0    0    0    0    0    0    0    0\n",
            "    0    0    0    0    0    0    0    0    0    0    0    0    0    0\n",
            "    0    0    0    0    0    0    0    0    0    0    0    0    0    0\n",
            "    0    0    0    0    0    0    0    0    0    0    0    0    0    0\n",
            "    0    0    0    0    0    0    0    0    0    0    0    0    0    0\n",
            "    0    0    0    0    0    0    0    0    0    0    0    0    0    0\n",
            "    0    0    0    0    0    0    0    0    0    0    0    0    0    0\n",
            "    0    0    0    0    0    0    0    0    0    0    0    0    0    0\n",
            "    0    0    0    0    0    0    0    0    0    0    0    0    0    0\n",
            "    0    0    0    0    0    0    0    0    0    0    0    0    0    0\n",
            "  232  153  704  261  111  331   87 1257   68   13  111 3176 1505   48\n",
            "  756 2674  271  489  153   84  521 3649   12    5  277  239 1167   48\n",
            " 3177 3353  869  631 1767 3176 1505  172  131    5 1505  343   48  863\n",
            "   10    1 2202    1 1505 1179 1179  268  109  153  664   40  149 1013\n",
            "    5   15   43  116   46   44   66   19  169   43   46   44   79   93\n",
            "    5   15    9   54   55   52    3   11    5   74    8   55   52   40\n",
            "   71  167  164   81  139  175   56  257   34  421    3   11 2554    4\n",
            "  172 2171  863 4424   40    5   15   66   19 1342 2554    4    5   15\n",
            "   43  116   46   44   66   43   46   44   79   93    5   54   55   52\n",
            "    3   11    5   74    8   55   52   71  167  164   81  139  175   56]\n",
            "[   0    0    0    0    0    0    0    0    0    0    0    0    0    0\n",
            "    0    0    0    0    0    0    0    0    0    0    0    0    0    0\n",
            "    0    0    0    0    0    0    0    0    0    0    0    0    0    0\n",
            "    0    0    0    0    0    0    0    0    0    0    0    0    0    0\n",
            "    0    0    0    0    0    0    0    0    0    0    0    0    0    0\n",
            "    0    0    0    0    0    0    0    0    0    0    0    0    0    0\n",
            "    0    0    0    0    0    0    0    0    0    0    0    0    0    0\n",
            "    0    0    0    0    0    0    0    0    0    0    0    0    0    0\n",
            "    0    0    0    0    0    0    0    0    0    0    0    0    0    0\n",
            "    0    0    0    0    0    0    0    0    0    0    0    0    0    0\n",
            "    0    0    0    0    0    0    0    0    0    0    0    0    0    0\n",
            "    0    0    0    0    0    0    0    0    0    0    0    0    0    0\n",
            "    0    0    0    0    0    0    0    0    0    0    0    0    0    0\n",
            "    0    0    0    0    0    0    0    0    0    0    0    0    0    0\n",
            "    0    0    0    0    0    0    0    0    0    0    0    0    0    0\n",
            "    0    0    0    0    0    0    0    0    0    0    0    0    0    0\n",
            "    0    0    0    0    0    0    0    0    0    0    0    0    0    0\n",
            "    0    0    0    0    0    0    0    0    0    0    0    0    0    0\n",
            "    0    0    0    0    0    0    0    0    0    0    0    0    0    0\n",
            "    0    0    0    0    0    0    0    0    0    0    0    0    0    0\n",
            "    0    0    0    0    0    0    0    0    0    0    0    0    0    0\n",
            "    0    0    0    0    0    0    0    0    0    0    0    0    0    0\n",
            "    0    0    0    0    0    0    0    0    0    0    0    0    0    0\n",
            "    0    0    0    0    0    0    0    0    0    0    0    0    0    0\n",
            "    0    0    0    0    0    0    0    0    0    0    0    0    0    0\n",
            "    0    0    0    0    0    0    0    0    0    0    0    0    0    0\n",
            "    0    0    0    0    0    0    0    0    0    0    0    0    0    0\n",
            "    0    0    0    0    0    0    0    0    0    0    0    0    0    0\n",
            "    0    0    0    0    0    0    0    0    0    0    0    0    0    0\n",
            "    0    0    0    0    0    0    0    0    0    0    0    0    0    0\n",
            "    0    0    0    0    0    0    0    0    0    0    0    0    0    0\n",
            "    0    0    0    0    0    0    0    0    0    0    0    0    0    0\n",
            "    0    0    0    0    0    0    0    0    0    0    0    0    0    0\n",
            "    0    0    0    0    0    0    0    0    0    0    0    0    0    0\n",
            "    0    0    0    0    0    0    0    0    0    0    0    0    0    0\n",
            "    0    0    0    0    0    0    0    0    0    0    0    0    0    0\n",
            "    0    0    0    0    0    0    0    0    0    0    0    0    0    0\n",
            "    0    0    0    0    0    0    0    0    0    0    0    0    0    0\n",
            "    0    0    0    0    0    0    0    0    0    0    0    0    0    0\n",
            "    0    0    0    0    0    0    0    0    0    0    0    0    0    0\n",
            "    0    0    0    0    0    0    0    0    0    0    0    0    0    0\n",
            "    0    0    0    0    0    0    0    0    0    0    0    0    0    0\n",
            "    0    0    0    0    0    0    0    0    0    0    0 2703 1793  477\n",
            " 1793  346   51   68  750  482  917  396 1109 1420 1793  554   64  461\n",
            "  954  217   27  191  231  137  362   22 2556  127   61  329   48  247\n",
            "  137  362  120  176   96 3205 3009 3829  526    3   11    4 2031   40]\n",
            "[   0    0    0    0    0    0    0    0    0    0    0    0    0    0\n",
            "    0    0    0    0    0    0    0    0    0    0    0    0    0    0\n",
            "    0    0    0    0    0    0    0    0    0    0    0    0    0    0\n",
            "    0    0    0    0    0    0    0    0    0    0    0    0    0    0\n",
            "    0    0    0    0    0    0    0    0    0    0    0    0    0    0\n",
            "    0    0    0    0    0    0    0    0    0    0    0    0    0    0\n",
            "    0    0    0    0    0    0    0    0    0    0    0    0    0    0\n",
            "    0    0    0    0    0    0    0    0    0    0    0    0    0    0\n",
            "    0    0    0    0    0    0    0    0    0    0    0    0    0    0\n",
            "    0    0    0    0    0    0    0    0    0    0    0    0    0    0\n",
            "    0    0    0    0    0    0    0    0    0    0    0    0    0    0\n",
            "    0    0    0    0    0    0    0    0    0    0    0    0    0    0\n",
            "    0    0    0    0    0    0    0    0    0    0    0    0    0    0\n",
            "    0    0    0    0    0    0    0    0    0    0    0    0    0    0\n",
            "    0    0    0    0    0    0    0    0    0    0    0    0    0    0\n",
            "    0    0    0    0    0    0    0    0    0    0    0    0    0    0\n",
            "    0    0    0    0    0    0    0    0    0    0    0    0    0    0\n",
            "    0    0    0    0    0    0    0    0    0    0    0    0    0    0\n",
            "    0    0    0    0    0    0    0    0    0    0    0    0    0    0\n",
            "    0    0    0    0    0    0    0    0    0    0    0    0    0    0\n",
            "    0    0    0    0    0    0    0    0    0    0    0    0    0    0\n",
            "    0    0    0    0    0    0    0    0    0    0    0    0    0    0\n",
            "    0    0    0    0    0    0    0    0    0    0    0    0    0    0\n",
            "    0    0    0    0    0    0    0    0    0    0    0    0    0    0\n",
            "    0    0    0    0    0    0    0    0    0    0    0    0    0    0\n",
            "    0    0    0    0    0    0    0    0    0    0    0    0    0    0\n",
            "    0    0    0    0    0    0    0    0    0    0    0    0    0    0\n",
            "    0    0    0    0    0    0    0    0    0    0    0    0    0    0\n",
            "    0    0    0    0    0    0    0    0    0    0    0    0    0    0\n",
            "    0    0    0    0    0    0    0    0    0    0    0    0    0    0\n",
            "    0    0    0    0    0    0    0    0    0    0    0    0    0    0\n",
            "    0    0    0    0    0    0    0    0    0    0    0    0    0    0\n",
            "    0    0    0    0    0    0    0    0    0    0    0    0    0    0\n",
            "    0    0    0    0    0    0    0    0    0    0    0    0    0    0\n",
            "    0    0    0    0    0    0    0    0    0    0    0    0    0    0\n",
            "    0    0    0    0    0    0    0    0    0    0    0    0    0    0\n",
            "    0    0    0    0    0    0    0    0    0    0    0    0    0    0\n",
            "    0    0    0    0    0    0    0    0    0    0    0    0    0    0\n",
            "    0    0    0    0    0    0    0    0    0    0    0    0    0    0\n",
            "    0    0    0    0    0    0    0    0    0    0    0    0    0    0\n",
            "    0    0    0    0    0    0    0    0    0    0    0    0    0    0\n",
            "    0    0    0    0    0    0    0    0    0    0  354   32 2792  830\n",
            "   77 3261 4734  846 4114 2071 3450   12  345  783  283   77  493   76\n",
            "  326   11 1458    4 1458    4 1975  635  450 1975 2939  327 1412 1458\n",
            "    4  689  339 1819    3   11 1458    4 1975  311  622  493 1416  354\n",
            "   32 1580   32   66   19   91   86    3   11 1458    4 2269   91  622]\n",
            "[   0    0    0    0    0    0    0    0    0    0    0    0    0    0\n",
            "    0    0    0    0    0    0    0    0    0    0    0    0    0    0\n",
            "    0    0    0    0    0    0    0    0    0    0    0    0    0    0\n",
            "    0    0    0    0    0    0    0    0    0    0    0    0    0    0\n",
            "    0    0    0    0    0    0    0    0    0    0    0    0    0    0\n",
            "    0    0    0    0    0    0    0    0    0    0    0    0    0    0\n",
            "    0    0    0    0    0    0    0    0    0    0    0    0    0    0\n",
            "    0    0    0    0    0    0    0    0    0    0    0    0    0    0\n",
            "    0    0    0    0    0    0    0    0    0    0    0    0    0    0\n",
            "    0    0    0    0    0    0    0    0    0    0    0    0    0    0\n",
            "    0    0    0    0    0    0    0    0    0    0    0    0    0    0\n",
            "    0    0    0    0    0    0    0    0    0    0    0    0    0    0\n",
            "    0    0    0    0    0    0    0    0    0    0    0    0    0    0\n",
            "    0    0    0    0    0    0    0    0    0    0    0    0    0    0\n",
            "    0    0    0    0    0    0    0    0    0    0    0    0    0    0\n",
            "    0    0    0    0    0    0    0    0    0    0    0    0    0    0\n",
            "    0    0    0    0    0    0    0    0    0    0    0    0    0    0\n",
            "    0    0    0    0    0    0    0    0    0    0    0    0    0    0\n",
            "    0    0    0    0    0    0    0    0    0    0    0    0    0    0\n",
            "    0    0    0    0    0    0    0    0    0    0    0    0    0    0\n",
            "    0    0    0    0    0    0    0    0    0    0    0    0    0    0\n",
            "    0    0    0    0    0    0    0    0    0    0    0    0    0    0\n",
            "    0    0    0    0    0    0    0    0    0    0    0    0    0    0\n",
            "    0    0    0    0    0    0    0    0    0    0    0    0    0    0\n",
            "    0    0    0    0    0    0    0    0    0    0    0    0    0    0\n",
            "    0    0    0    0    0    0    0    0    0    0    0    0    0    0\n",
            "    0    0    0    0    0    0    0    0    0    0    0    0    0    0\n",
            "    0    0    0    0    0    0    0    0    0    0    0    0    0    0\n",
            "    0    0    0    0    0    0    0    0    0    0    0    0    0    0\n",
            "    0    0    0    0    0    0    0    0    0    0    0    0    0    0\n",
            "    0    0    0    0    0    0    0    0    0    0    0    0    0    0\n",
            "    0    0    0    0    0    0    0    0    0    0    0    0    0    0\n",
            "    0    0    0    0    0    0    0    0    0    0    0    0    0    0\n",
            "    0    0    0    0    0    0    0    0    0    0    0    0    0    0\n",
            "    0    0    0    0    0    0    0    0    0    0    0    0    0    0\n",
            "    0    0    0    0    0    0    0    0    0    0    0    0    0    0\n",
            "    0    0    0    0    0    0    0    0    0    0    0    0    0    0\n",
            "    0    0    0    0    0    0  570    5 2891    3    4    7    1 3222\n",
            " 4947   40  395  693 3535  198 2891    3    4    7    1 3222 4947   40\n",
            "  198 2891  753    1 1988 2646  800    1   12  345 1046    1 4009  198\n",
            " 2891  198 2891 1350 2472  213 2045 2517  218 1063  198 2891 2452 1684\n",
            "  957 4055  192  957  617    1 2366 1791    1 3796 4572  203   36  957\n",
            " 1551    1  636 1246 2924 1492  365 1004  300 1902    1  198 2891  265\n",
            "  392  340   34 1094    4   16  960   96 2391 4316  198   96  139   34\n",
            " 2151  192  645   27    3    4  311  622  121 3222   13 4844  759  523\n",
            "   90  689 2065  208    1  456 3194 3983 1327 1234 2411 4425    1    1]\n"
          ]
        }
      ],
      "source": [
        "#Padding in order to make the tokens for the emails the same size.\n",
        "x_train_features_padded = pad_sequences(x_train_seq, maxlen=max_length)\n",
        "x_test_features_padded = pad_sequences(x_test_seq, maxlen=max_length)\n",
        "\n",
        "iii = 0\n",
        "while iii < 5:\n",
        "  print(x_train_features_padded[iii])\n",
        "  iii+=1\n"
      ]
    },
    {
      "cell_type": "code",
      "execution_count": null,
      "metadata": {
        "id": "XW6N1zcPyzTY",
        "colab": {
          "base_uri": "https://localhost:8080/"
        },
        "outputId": "68b8e457-ed6f-4c25-fec7-d06b6b68ebc6"
      },
      "outputs": [
        {
          "output_type": "stream",
          "name": "stdout",
          "text": [
            "58413\n"
          ]
        }
      ],
      "source": [
        "#Labeling the Encoding Target Variable\n",
        "print(len(x_train)) #training samples\n",
        "l = LabelEncoder()\n",
        "train_y = l.fit_transform(y_train)\n",
        "test_y = l.transform(y_test)"
      ]
    },
    {
      "cell_type": "code",
      "execution_count": null,
      "metadata": {
        "id": "Oj4mk8noCRDW"
      },
      "outputs": [],
      "source": [
        "#MODEL SELECTION!!!!!!!!!!!!!!\n",
        "model = Sequential()\n",
        "\n",
        "#size of the output vector from each layer\n",
        "embedding_vector_length = 32\n",
        "\n",
        "#add layers here {experiment with different layers}\n",
        "\n",
        "#Creating an embedding layer to vectorize\n",
        "model.add(Embedding(max_words, embedding_vector_length, input_length=max_length))\n",
        "\n",
        "#Addding Bi-directional LSTM\n",
        "model.add(Bidirectional(tf.keras.layers.LSTM(64)))\n",
        "\n",
        "#Relu allows converging quickly and allows backpropagation\n",
        "model.add(Dense(16, activation='relu'))\n",
        "\n",
        "#Deep Learning models can be overfit easily, to avoid this, we add randomization using drop out\n",
        "model.add(Dropout(0.1))\n",
        "\n",
        "#Adding sigmoid activation function to normalize the output\n",
        "model.add(Dense(1, activation='sigmoid'))\n",
        "\n",
        "\n",
        "model.compile(loss='binary_crossentropy', optimizer='adam', metrics=['accuracy'])\n",
        "\n",
        "\n",
        "\n"
      ]
    },
    {
      "cell_type": "code",
      "execution_count": null,
      "metadata": {
        "id": "-OYUT-N9E2Ye",
        "colab": {
          "base_uri": "https://localhost:8080/",
          "height": 644
        },
        "outputId": "3b7be4dc-07fc-4e08-de51-e2de1ae74e4d"
      },
      "outputs": [
        {
          "output_type": "execute_result",
          "data": {
            "image/png": "[encoded data removed]",
            "text/plain": [
              "<IPython.core.display.Image object>"
            ]
          },
          "metadata": {},
          "execution_count": 36
        }
      ],
      "source": [
        "#Shows a visual representation of the nerual network models, and shows its structure with the shapes and layer names and also saves it as an image file.\n",
        "tf.keras.utils.plot_model(model, to_file='model_plot.png', show_shapes=True, show_layer_names=True)"
      ]
    },
    {
      "cell_type": "code",
      "execution_count": null,
      "metadata": {
        "id": "sEWTJT-fNe_7",
        "colab": {
          "base_uri": "https://localhost:8080/"
        },
        "outputId": "187bd9d5-e44c-4a7a-96e9-ece1cd013ac5"
      },
      "outputs": [
        {
          "output_type": "stream",
          "name": "stdout",
          "text": [
            "Model: \"sequential\"\n",
            "_________________________________________________________________\n",
            " Layer (type)                Output Shape              Param #   \n",
            "=================================================================\n",
            " embedding (Embedding)       (None, 644, 32)           160000    \n",
            "                                                                 \n",
            " bidirectional (Bidirection  (None, 128)               49664     \n",
            " al)                                                             \n",
            "                                                                 \n",
            " dense (Dense)               (None, 16)                2064      \n",
            "                                                                 \n",
            " dropout (Dropout)           (None, 16)                0         \n",
            "                                                                 \n",
            " dense_1 (Dense)             (None, 1)                 17        \n",
            "                                                                 \n",
            "=================================================================\n",
            "Total params: 211745 (827.13 KB)\n",
            "Trainable params: 211745 (827.13 KB)\n",
            "Non-trainable params: 0 (0.00 Byte)\n",
            "_________________________________________________________________\n"
          ]
        }
      ],
      "source": [
        "#do model.summary() here\n",
        "model.summary()"
      ]
    },
    {
      "cell_type": "code",
      "source": [
        "print(len(model.layers))"
      ],
      "metadata": {
        "colab": {
          "base_uri": "https://localhost:8080/"
        },
        "id": "JiO7pUVucpX1",
        "outputId": "4ce39b9f-bae9-469c-8875-445b3dae16ed"
      },
      "execution_count": null,
      "outputs": [
        {
          "output_type": "stream",
          "name": "stdout",
          "text": [
            "5\n"
          ]
        }
      ]
    },
    {
      "cell_type": "code",
      "source": [
        "model.count_params()"
      ],
      "metadata": {
        "colab": {
          "base_uri": "https://localhost:8080/"
        },
        "id": "uhxXMdApdVXB",
        "outputId": "13af1f87-118f-4865-8533-c86b5cb8755d"
      },
      "execution_count": null,
      "outputs": [
        {
          "output_type": "execute_result",
          "data": {
            "text/plain": [
              "211745"
            ]
          },
          "metadata": {},
          "execution_count": 39
        }
      ]
    },
    {
      "cell_type": "code",
      "execution_count": null,
      "metadata": {
        "id": "xHej7snWLetM",
        "colab": {
          "base_uri": "https://localhost:8080/"
        },
        "outputId": "927527ce-8d6d-496f-d01a-d577464e2a78"
      },
      "outputs": [
        {
          "output_type": "stream",
          "name": "stdout",
          "text": [
            "Epoch 1/20\n",
            "115/115 [==============================] - 29s 196ms/step - loss: 0.3469 - accuracy: 0.8567 - val_loss: 0.0857 - val_accuracy: 0.9697\n",
            "Epoch 2/20\n",
            "115/115 [==============================] - 17s 150ms/step - loss: 0.0626 - accuracy: 0.9809 - val_loss: 0.0668 - val_accuracy: 0.9785\n",
            "Epoch 3/20\n",
            "115/115 [==============================] - 15s 130ms/step - loss: 0.0413 - accuracy: 0.9877 - val_loss: 0.0576 - val_accuracy: 0.9833\n",
            "Epoch 4/20\n",
            "115/115 [==============================] - 14s 120ms/step - loss: 0.0332 - accuracy: 0.9906 - val_loss: 0.0601 - val_accuracy: 0.9833\n",
            "Epoch 5/20\n",
            "115/115 [==============================] - 13s 110ms/step - loss: 0.0263 - accuracy: 0.9930 - val_loss: 0.0707 - val_accuracy: 0.9812\n",
            "Epoch 6/20\n",
            "115/115 [==============================] - 13s 111ms/step - loss: 0.0236 - accuracy: 0.9935 - val_loss: 0.0784 - val_accuracy: 0.9801\n",
            "Epoch 7/20\n",
            "115/115 [==============================] - 13s 112ms/step - loss: 0.0201 - accuracy: 0.9946 - val_loss: 0.0744 - val_accuracy: 0.9792\n",
            "Epoch 8/20\n",
            "115/115 [==============================] - 12s 102ms/step - loss: 0.0177 - accuracy: 0.9953 - val_loss: 0.0712 - val_accuracy: 0.9825\n",
            "Epoch 9/20\n",
            "115/115 [==============================] - 12s 108ms/step - loss: 0.0175 - accuracy: 0.9951 - val_loss: 0.0738 - val_accuracy: 0.9822\n",
            "Epoch 10/20\n",
            "115/115 [==============================] - 12s 105ms/step - loss: 0.0143 - accuracy: 0.9960 - val_loss: 0.0818 - val_accuracy: 0.9819\n",
            "Epoch 11/20\n",
            "115/115 [==============================] - 12s 106ms/step - loss: 0.0142 - accuracy: 0.9964 - val_loss: 0.0827 - val_accuracy: 0.9815\n",
            "Epoch 12/20\n",
            "115/115 [==============================] - 13s 110ms/step - loss: 0.0154 - accuracy: 0.9957 - val_loss: 0.0822 - val_accuracy: 0.9817\n",
            "Epoch 13/20\n",
            "115/115 [==============================] - 13s 110ms/step - loss: 0.0124 - accuracy: 0.9965 - val_loss: 0.0917 - val_accuracy: 0.9783\n",
            "Epoch 14/20\n",
            "115/115 [==============================] - 13s 110ms/step - loss: 0.0116 - accuracy: 0.9970 - val_loss: 0.0879 - val_accuracy: 0.9815\n",
            "Epoch 15/20\n",
            "115/115 [==============================] - 13s 110ms/step - loss: 0.0142 - accuracy: 0.9960 - val_loss: 0.0837 - val_accuracy: 0.9810\n",
            "Epoch 16/20\n",
            "115/115 [==============================] - 13s 110ms/step - loss: 0.0121 - accuracy: 0.9970 - val_loss: 0.0904 - val_accuracy: 0.9798\n",
            "Epoch 17/20\n",
            "115/115 [==============================] - 13s 110ms/step - loss: 0.0096 - accuracy: 0.9976 - val_loss: 0.0931 - val_accuracy: 0.9817\n",
            "Epoch 18/20\n",
            "115/115 [==============================] - 13s 110ms/step - loss: 0.0083 - accuracy: 0.9980 - val_loss: 0.0960 - val_accuracy: 0.9811\n",
            "Epoch 19/20\n",
            "115/115 [==============================] - 12s 102ms/step - loss: 0.0077 - accuracy: 0.9982 - val_loss: 0.0989 - val_accuracy: 0.9789\n",
            "Epoch 20/20\n",
            "115/115 [==============================] - 12s 105ms/step - loss: 0.0117 - accuracy: 0.9968 - val_loss: 0.1008 - val_accuracy: 0.9779\n"
          ]
        }
      ],
      "source": [
        "#model training visualized\n",
        "history = model.fit(x_train_features_padded, train_y,\n",
        "                    batch_size=512,\n",
        "                    epochs=20,\n",
        "                    validation_data=(x_test_features_padded, test_y))"
      ]
    },
    {
      "cell_type": "code",
      "execution_count": null,
      "metadata": {
        "id": "1P6eWI0XMigz",
        "colab": {
          "base_uri": "https://localhost:8080/"
        },
        "outputId": "0c021ee1-ccd0-422d-d2ed-d41d660329de"
      },
      "outputs": [
        {
          "output_type": "stream",
          "name": "stdout",
          "text": [
            "783/783 [==============================] - 13s 16ms/step\n"
          ]
        }
      ],
      "source": [
        "#to test model predictions\n",
        "y_predict = [1 if o>0.5 else 0 for o in model.predict(x_test_features_padded)]"
      ]
    },
    {
      "cell_type": "code",
      "execution_count": null,
      "metadata": {
        "id": "lmZtWbg3MWVK",
        "colab": {
          "base_uri": "https://localhost:8080/"
        },
        "outputId": "1aa282fb-8056-4a1e-cf31-66a4eb711b0d"
      },
      "outputs": [
        {
          "output_type": "stream",
          "name": "stdout",
          "text": [
            "Precision: 96.62%\n",
            "Recall: 99.27%\n",
            "F1 Score 97.93%\n",
            "[[11406   457]\n",
            " [   96 13076]]\n"
          ]
        }
      ],
      "source": [
        "#confusion matrix and related model data\n",
        "cf_matrix = confusion_matrix(test_y, y_predict)\n",
        "tn, fp, fn, tp = confusion_matrix(test_y, y_predict).ravel()\n",
        "print(\"Precision: {:.2f}%\".format(100 * precision_score(test_y, y_predict)))\n",
        "print(\"Recall: {:.2f}%\".format(100 * recall_score(test_y, y_predict)))\n",
        "print(\"F1 Score {:.2f}%\".format(100 * f1_score(test_y, y_predict)))\n",
        "print(cf_matrix)"
      ]
    },
    {
      "cell_type": "code",
      "source": [
        "ax= plt.subplot()\n",
        "sns.heatmap(cf_matrix, annot=True, ax = ax,cmap='Greens',fmt='');\n",
        "ax.set_title('Confusion Matrix');\n",
        "ax.set_xlabel('Predicted');\n",
        "ax.set_ylabel('Actual');\n",
        "ax.xaxis.set_ticklabels(['Safe', 'Spam/Phishing']); ax.yaxis.set_ticklabels(['Safe', 'Spam/Phishing']);"
      ],
      "metadata": {
        "id": "JK6iHcisQCtk",
        "colab": {
          "base_uri": "https://localhost:8080/"
        },
        "outputId": "cce62622-7c3d-4c50-d5b4-f9aad94a00cc"
      },
      "execution_count": null,
      "outputs": [
        {
          "output_type": "display_data",
          "data": {
            "text/plain": [
              "<Figure size 640x480 with 2 Axes>"
            ],
            "image/png": "[encoded data removed]"
          },
          "metadata": {}
        }
      ]
    },
    {
      "cell_type": "code",
      "execution_count": null,
      "metadata": {
        "id": "WNcaxmVEzwyV"
      },
      "outputs": [],
      "source": [
        "txxt = '''Hi Student,\n",
        "I am Dr. Yui Man Lui, I feel comfortable discussing this WORK- STUDY opening with you since\n",
        "you were referred by the university chamber of commerce. I am very busy that is why i have\n",
        "asked for your help as my temporary personal assistant. I provide individual and group therapy,\n",
        "coaching, assessment and many University of students with academic difficulties and no prior\n",
        "diagnosis are seen and assessed through the academic screening and assessment process.\n",
        "You have received this email because you have an offer from the University Office to help\n",
        "Students with Disabilities. You'll work with me while we help Students with disabilities frustrated\n",
        "with ignorance and lack of services but as my temporary personal assistant\n",
        "This is a very simple employment, You will only help me Mail letters, Make payments at retail\n",
        "stores and purchase some Items when needed. This employment only takes an hour a day and\n",
        "3 times a week for $350 weekly. I am unable to meetup for an interview because I am currently\n",
        "away and helping the disabled students in Australia.\n",
        "You will be paid in advance for all tasks and purchased to be done on my behalf and some of\n",
        "my personal letters and mails will be forwarded to your residence or nearby post office for you to\n",
        "pick up at your convenience. Upon my arrival we will discuss the possibility of making this a\n",
        "long-term employment if I am impressed with your services while I am away. My arrival is\n",
        "scheduled on first week of March 2024.\n",
        "Please email your Full name, Residential Address to receive packages, Alternate email\n",
        "(different from school email) and Cell # to email below:-\n",
        "Dr. Yui Man Lui :- CONTACT ME BACK AT yuimanlui1921@gmail.com\n",
        "Clinical Counselor\n",
        "Disability Resources and Educational Services (DRES)'''\n"
      ]
    },
    {
      "cell_type": "markdown",
      "metadata": {
        "id": "x3V6Dgysdg_T"
      },
      "source": [
        "Hi Student,\n",
        "I am Dr. Yui Man Lui, I feel comfortable discussing this WORK- STUDY opening with you since\n",
        "you were referred by the university chamber of commerce. I am very busy that is why i have\n",
        "asked for your help as my temporary personal assistant. I provide individual and group therapy,\n",
        "coaching, assessment and many University of students with academic difficulties and no prior\n",
        "diagnosis are seen and assessed through the academic screening and assessment process.\n",
        "You have received this email because you have an offer from the University Office to help\n",
        "Students with Disabilities. You'll work with me while we help Students with disabilities frustrated\n",
        "with ignorance and lack of services but as my temporary personal assistant\n",
        "This is a very simple employment, You will only help me Mail letters, Make payments at retail\n",
        "stores and purchase some Items when needed. This employment only takes an hour a day and\n",
        "3 times a week for $350 weekly. I am unable to meetup for an interview because I am currently\n",
        "away and helping the disabled students in Australia.\n",
        "You will be paid in advance for all tasks and purchased to be done on my behalf and some of\n",
        "my personal letters and mails will be forwarded to your residence or nearby post office for you to\n",
        "pick up at your convenience. Upon my arrival we will discuss the possibility of making this a\n",
        "long-term employment if I am impressed with your services while I am away. My arrival is\n",
        "scheduled on first week of March 2024.\n",
        "Please email your Full name, Residential Address to receive packages, Alternate email\n",
        "(different from school email) and Cell # to email below:-\n",
        "Dr. Yui Man Lui :- CONTACT ME BACK AT yuimanlui1921@gmail.com\n",
        "Clinical Counselor\n",
        "Disability Resources and Educational Services (DRES)"
      ]
    },
    {
      "cell_type": "code",
      "execution_count": null,
      "metadata": {
        "id": "6EAy2jcl-kqE",
        "colab": {
          "base_uri": "https://localhost:8080/"
        },
        "outputId": "e65f9259-59c8-47e6-f7d0-e1a2c645c1c4"
      },
      "outputs": [
        {
          "output_type": "stream",
          "name": "stdout",
          "text": [
            "hi student dr yui man lui feel comfortable discussing work study opening since referred university chamber commerce busy asked help temporary personal assistant provide individual group therapy coaching assessment many university students academic difficulties prior diagnosis seen assessed academic screening assessment process received email offer university office help students disabilities youll work help students disabilities frustrated ignorance lack services temporary personal assistant simple employment help mail letters make payments retail stores purchase items needed employment takes hour day times week weekly unable meetup interview currently away helping disabled students australia paid advance tasks purchased done behalf personal letters mails forwarded residence nearby post office pick convenience upon arrival discuss possibility making longterm employment impressed services away arrival scheduled first week march please email full name residential address receive packages alternate email different school email cell email dr yui man lui contact back yuimanluigmailcom clinical counselor disability resources educational services dres\n"
          ]
        }
      ],
      "source": [
        "txt = txxt.lower()\n",
        "txt = removeSpecial(txt)\n",
        "txt = removeNumbers(txt)\n",
        "txt = word_tokenize(txt)\n",
        "txt = remove_stop_words(txt)\n",
        "txt = removeURL(txt)\n",
        "#txt = cleanURL(txt)\n",
        "txt = removeHTML(txt)\n",
        "txt = ' '.join(txt)\n",
        "print(txt)"
      ]
    },
    {
      "cell_type": "code",
      "execution_count": null,
      "metadata": {
        "id": "NoZ2iqY6G3tT"
      },
      "outputs": [],
      "source": [
        "tokenizer.fit_on_texts(txt)"
      ]
    },
    {
      "cell_type": "code",
      "execution_count": null,
      "metadata": {
        "id": "QysHlzb2-T5m"
      },
      "outputs": [],
      "source": [
        "txt_seq = tokenizer.texts_to_sequences(txt)"
      ]
    },
    {
      "cell_type": "code",
      "execution_count": null,
      "metadata": {
        "id": "HMhe0KBUGj0H"
      },
      "outputs": [],
      "source": [
        "txt_padded = pad_sequences(txt_seq, maxlen=max_length)"
      ]
    },
    {
      "cell_type": "code",
      "execution_count": null,
      "metadata": {
        "id": "Sg0WHCKkGk4I",
        "colab": {
          "base_uri": "https://localhost:8080/"
        },
        "outputId": "456877dc-091f-49e4-f1c4-b9b232cb11da"
      },
      "outputs": [
        {
          "output_type": "stream",
          "name": "stdout",
          "text": [
            "37/37 [==============================] - 1s 18ms/step\n",
            "1.0\n"
          ]
        }
      ],
      "source": [
        "y_pred = [1 if o>0.5 else 0 for o in model.predict(txt_padded)]\n",
        "print(np.mean(y_pred))\n"
      ]
    },
    {
      "cell_type": "code",
      "execution_count": null,
      "metadata": {
        "id": "gDOxz_4-JclA"
      },
      "outputs": [],
      "source": [
        "toxt = '''\n",
        "Hello! I am in CSE-30, Campesato.\n",
        "\n",
        "I want to attend this section to understand the homework that is assigned, so is it okay if I come?\n",
        "\n",
        "\n",
        "Sincerely,\n",
        "Arnav Sharma\n",
        "'''"
      ]
    },
    {
      "cell_type": "markdown",
      "metadata": {
        "id": "RDBsFPjD5c-K"
      },
      "source": [
        "'''\n",
        "Hello! I am in CSE-30, Campesato.\n",
        "\n",
        "I want to attend this section to understand the homework that is assigned, so is it okay if I come?\n",
        "\n",
        "\n",
        "Sincerely,\n",
        "Arnav Sharma\n"
      ]
    },
    {
      "cell_type": "code",
      "execution_count": null,
      "metadata": {
        "id": "UmXvr6fYfZc3",
        "colab": {
          "base_uri": "https://localhost:8080/"
        },
        "outputId": "f4f770ba-27e4-4d65-9c36-c747519303b2"
      },
      "outputs": [
        {
          "output_type": "stream",
          "name": "stdout",
          "text": [
            "hello cse campesato want attend section understand homework assigned okay come sincerely arnav sharma\n"
          ]
        }
      ],
      "source": [
        "tot = toxt.lower()\n",
        "tot = removeSpecial(tot)\n",
        "tot = removeNumbers(tot)\n",
        "tot = word_tokenize(tot)\n",
        "tot = remove_stop_words(tot)\n",
        "tot = removeURL(tot)\n",
        "#tot = cleanURL(tot)\n",
        "tot = removeHTML(tot)\n",
        "tot = ' '.join(tot)\n",
        "print(tot)"
      ]
    },
    {
      "cell_type": "code",
      "execution_count": null,
      "metadata": {
        "id": "nlPc8CkofZmg"
      },
      "outputs": [],
      "source": [
        "tokenizer.fit_on_texts(tot)\n",
        "tot_seq = tokenizer.texts_to_sequences(tot)\n",
        "tot_padded = pad_sequences(tot_seq, maxlen=max_length)\n",
        "\n"
      ]
    },
    {
      "cell_type": "code",
      "execution_count": null,
      "metadata": {
        "id": "f4E11plEfZv_",
        "colab": {
          "base_uri": "https://localhost:8080/"
        },
        "outputId": "224ae25a-2aec-43f9-f1b9-cdf1774f7a3c"
      },
      "outputs": [
        {
          "output_type": "stream",
          "name": "stdout",
          "text": [
            "4/4 [==============================] - 0s 15ms/step\n",
            "1.0\n"
          ]
        }
      ],
      "source": [
        "y_pred1 = [1 if o>0.5 else 0 for o in model.predict(tot_padded)]\n",
        "print(np.mean(y_pred1))\n"
      ]
    }
  ],
  "metadata": {
    "accelerator": "GPU",
    "colab": {
      "gpuType": "T4",
      "provenance": [],
      "include_colab_link": true
    },
    "kernelspec": {
      "display_name": "Python 3",
      "name": "python3"
    },
    "language_info": {
      "name": "python"
    }
  },
  "nbformat": 4,
  "nbformat_minor": 0
}